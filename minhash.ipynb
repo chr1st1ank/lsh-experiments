{
 "cells": [
  {
   "cell_type": "code",
   "execution_count": 1,
   "metadata": {},
   "outputs": [
    {
     "data": {
      "application/javascript": [
       "\n",
       "            setTimeout(function() {\n",
       "                var nbb_cell_id = 1;\n",
       "                var nbb_unformatted_code = \"%load_ext autoreload\\n%load_ext nb_black\\n%autoreload 2\";\n",
       "                var nbb_formatted_code = \"%load_ext autoreload\\n%load_ext nb_black\\n%autoreload 2\";\n",
       "                var nbb_cells = Jupyter.notebook.get_cells();\n",
       "                for (var i = 0; i < nbb_cells.length; ++i) {\n",
       "                    if (nbb_cells[i].input_prompt_number == nbb_cell_id) {\n",
       "                        if (nbb_cells[i].get_text() == nbb_unformatted_code) {\n",
       "                             nbb_cells[i].set_text(nbb_formatted_code);\n",
       "                        }\n",
       "                        break;\n",
       "                    }\n",
       "                }\n",
       "            }, 500);\n",
       "            "
      ],
      "text/plain": [
       "<IPython.core.display.Javascript object>"
      ]
     },
     "metadata": {},
     "output_type": "display_data"
    }
   ],
   "source": [
    "%load_ext autoreload\n",
    "%load_ext nb_black\n",
    "%autoreload 2"
   ]
  },
  {
   "cell_type": "code",
   "execution_count": 2,
   "metadata": {},
   "outputs": [
    {
     "data": {
      "application/javascript": [
       "\n",
       "            setTimeout(function() {\n",
       "                var nbb_cell_id = 2;\n",
       "                var nbb_unformatted_code = \"from typing import Set, List, Iterable\\nimport collections\\nimport itertools\\nfrom numpy.random import default_rng\\nimport numpy as np\\nimport random\\nimport sys\\nfrom pathlib import Path\\nimport re\\nimport pandas as pd\\nfrom pympler.asizeof import asizeof\\nfrom humanize.filesize import naturalsize\\nimport seaborn as sns\\n\\n%matplotlib inline\";\n",
       "                var nbb_formatted_code = \"from typing import Set, List, Iterable\\nimport collections\\nimport itertools\\nfrom numpy.random import default_rng\\nimport numpy as np\\nimport random\\nimport sys\\nfrom pathlib import Path\\nimport re\\nimport pandas as pd\\nfrom pympler.asizeof import asizeof\\nfrom humanize.filesize import naturalsize\\nimport seaborn as sns\\n\\n%matplotlib inline\";\n",
       "                var nbb_cells = Jupyter.notebook.get_cells();\n",
       "                for (var i = 0; i < nbb_cells.length; ++i) {\n",
       "                    if (nbb_cells[i].input_prompt_number == nbb_cell_id) {\n",
       "                        if (nbb_cells[i].get_text() == nbb_unformatted_code) {\n",
       "                             nbb_cells[i].set_text(nbb_formatted_code);\n",
       "                        }\n",
       "                        break;\n",
       "                    }\n",
       "                }\n",
       "            }, 500);\n",
       "            "
      ],
      "text/plain": [
       "<IPython.core.display.Javascript object>"
      ]
     },
     "metadata": {},
     "output_type": "display_data"
    }
   ],
   "source": [
    "from typing import Set, List, Iterable\n",
    "import collections\n",
    "import itertools\n",
    "from numpy.random import default_rng\n",
    "import numpy as np\n",
    "import random\n",
    "import sys\n",
    "from pathlib import Path\n",
    "import re\n",
    "import pandas as pd\n",
    "from pympler.asizeof import asizeof\n",
    "from humanize.filesize import naturalsize\n",
    "import seaborn as sns\n",
    "\n",
    "%matplotlib inline"
   ]
  },
  {
   "cell_type": "code",
   "execution_count": 3,
   "metadata": {},
   "outputs": [
    {
     "data": {
      "application/javascript": [
       "\n",
       "            setTimeout(function() {\n",
       "                var nbb_cell_id = 3;\n",
       "                var nbb_unformatted_code = \"import lshexp.minhash as mh\\nfrom lshexp import shingle\";\n",
       "                var nbb_formatted_code = \"import lshexp.minhash as mh\\nfrom lshexp import shingle\";\n",
       "                var nbb_cells = Jupyter.notebook.get_cells();\n",
       "                for (var i = 0; i < nbb_cells.length; ++i) {\n",
       "                    if (nbb_cells[i].input_prompt_number == nbb_cell_id) {\n",
       "                        if (nbb_cells[i].get_text() == nbb_unformatted_code) {\n",
       "                             nbb_cells[i].set_text(nbb_formatted_code);\n",
       "                        }\n",
       "                        break;\n",
       "                    }\n",
       "                }\n",
       "            }, 500);\n",
       "            "
      ],
      "text/plain": [
       "<IPython.core.display.Javascript object>"
      ]
     },
     "metadata": {},
     "output_type": "display_data"
    }
   ],
   "source": [
    "import lshexp.minhash as mh\n",
    "from lshexp import shingle"
   ]
  },
  {
   "cell_type": "code",
   "execution_count": 5,
   "metadata": {},
   "outputs": [
    {
     "data": {
      "application/javascript": [
       "\n",
       "            setTimeout(function() {\n",
       "                var nbb_cell_id = 5;\n",
       "                var nbb_unformatted_code = \"def words_of_wiki_articles(pattern):\\n    words = set()\\n    split_reg = re.compile(\\\"\\\\W\\\")\\n    for p in Path(\\\"./data/wikipediaArticles\\\").glob(pattern):\\n        with p.open(\\\"r\\\") as f:\\n            for l in f.readlines():\\n                l = l.strip()\\n                if l and not l.lstrip().startswith(\\\"#\\\"):\\n                    words = words.union(\\n                        l.strip().lower() for l in split_reg.split(l) if l.strip()\\n                    )\\n    return words\";\n",
       "                var nbb_formatted_code = \"def words_of_wiki_articles(pattern):\\n    words = set()\\n    split_reg = re.compile(\\\"\\\\W\\\")\\n    for p in Path(\\\"./data/wikipediaArticles\\\").glob(pattern):\\n        with p.open(\\\"r\\\") as f:\\n            for l in f.readlines():\\n                l = l.strip()\\n                if l and not l.lstrip().startswith(\\\"#\\\"):\\n                    words = words.union(\\n                        l.strip().lower() for l in split_reg.split(l) if l.strip()\\n                    )\\n    return words\";\n",
       "                var nbb_cells = Jupyter.notebook.get_cells();\n",
       "                for (var i = 0; i < nbb_cells.length; ++i) {\n",
       "                    if (nbb_cells[i].input_prompt_number == nbb_cell_id) {\n",
       "                        if (nbb_cells[i].get_text() == nbb_unformatted_code) {\n",
       "                             nbb_cells[i].set_text(nbb_formatted_code);\n",
       "                        }\n",
       "                        break;\n",
       "                    }\n",
       "                }\n",
       "            }, 500);\n",
       "            "
      ],
      "text/plain": [
       "<IPython.core.display.Javascript object>"
      ]
     },
     "metadata": {},
     "output_type": "display_data"
    }
   ],
   "source": [
    "def words_of_wiki_articles(pattern):\n",
    "    words = set()\n",
    "    split_reg = re.compile(\"\\W\")\n",
    "    for p in Path(\"./data/wikipediaArticles\").glob(pattern):\n",
    "        with p.open(\"r\") as f:\n",
    "            for l in f.readlines():\n",
    "                l = l.strip()\n",
    "                if l and not l.lstrip().startswith(\"#\"):\n",
    "                    words = words.union(\n",
    "                        l.strip().lower() for l in split_reg.split(l) if l.strip()\n",
    "                    )\n",
    "    return words"
   ]
  },
  {
   "cell_type": "code",
   "execution_count": 11,
   "metadata": {},
   "outputs": [
    {
     "data": {
      "text/plain": [
       "(10892, ['tremors', 'jansenism', 'april', 'massemorderne'])"
      ]
     },
     "execution_count": 11,
     "metadata": {},
     "output_type": "execute_result"
    },
    {
     "data": {
      "application/javascript": [
       "\n",
       "            setTimeout(function() {\n",
       "                var nbb_cell_id = 11;\n",
       "                var nbb_unformatted_code = \"words = list(words_of_wiki_articles(\\\"en*.txt\\\"))\\nlen(words), words[:4]\";\n",
       "                var nbb_formatted_code = \"words = list(words_of_wiki_articles(\\\"en*.txt\\\"))\\nlen(words), words[:4]\";\n",
       "                var nbb_cells = Jupyter.notebook.get_cells();\n",
       "                for (var i = 0; i < nbb_cells.length; ++i) {\n",
       "                    if (nbb_cells[i].input_prompt_number == nbb_cell_id) {\n",
       "                        if (nbb_cells[i].get_text() == nbb_unformatted_code) {\n",
       "                             nbb_cells[i].set_text(nbb_formatted_code);\n",
       "                        }\n",
       "                        break;\n",
       "                    }\n",
       "                }\n",
       "            }, 500);\n",
       "            "
      ],
      "text/plain": [
       "<IPython.core.display.Javascript object>"
      ]
     },
     "metadata": {},
     "output_type": "display_data"
    }
   ],
   "source": [
    "words = list(words_of_wiki_articles(\"en*.txt\"))\n",
    "len(words), words[:4]"
   ]
  },
  {
   "cell_type": "code",
   "execution_count": 18,
   "metadata": {},
   "outputs": [
    {
     "data": {
      "text/plain": [
       "(40000,\n",
       " '3.9 MB',\n",
       " ['clash gazette criticism immense materiel',\n",
       "  'recent cells close line suspended toots',\n",
       "  'guided cappelen row newspaper pansexual zimbabwean plumes',\n",
       "  'frenchconseiller overall jurisdiction voting rose trinity taraqqi renomination',\n",
       "  'ivens'])"
      ]
     },
     "execution_count": 18,
     "metadata": {},
     "output_type": "execute_result"
    },
    {
     "data": {
      "application/javascript": [
       "\n",
       "            setTimeout(function() {\n",
       "                var nbb_cell_id = 18;\n",
       "                var nbb_unformatted_code = \"random.seed(42)\\ndocuments = [\\n    \\\" \\\".join(random.choices(words, k=n_words))\\n    for _ in range(5000)\\n    for n_words in range(1, 9)\\n]\\nlen(documents), naturalsize(asizeof(documents)), documents[20:25]\";\n",
       "                var nbb_formatted_code = \"random.seed(42)\\ndocuments = [\\n    \\\" \\\".join(random.choices(words, k=n_words))\\n    for _ in range(5000)\\n    for n_words in range(1, 9)\\n]\\nlen(documents), naturalsize(asizeof(documents)), documents[20:25]\";\n",
       "                var nbb_cells = Jupyter.notebook.get_cells();\n",
       "                for (var i = 0; i < nbb_cells.length; ++i) {\n",
       "                    if (nbb_cells[i].input_prompt_number == nbb_cell_id) {\n",
       "                        if (nbb_cells[i].get_text() == nbb_unformatted_code) {\n",
       "                             nbb_cells[i].set_text(nbb_formatted_code);\n",
       "                        }\n",
       "                        break;\n",
       "                    }\n",
       "                }\n",
       "            }, 500);\n",
       "            "
      ],
      "text/plain": [
       "<IPython.core.display.Javascript object>"
      ]
     },
     "metadata": {},
     "output_type": "display_data"
    }
   ],
   "source": [
    "random.seed(42)\n",
    "documents = [\n",
    "    \" \".join(random.choices(words, k=n_words))\n",
    "    for _ in range(5000)\n",
    "    for n_words in range(1, 9)\n",
    "]\n",
    "len(documents), naturalsize(asizeof(documents)), documents[20:25]"
   ]
  },
  {
   "cell_type": "code",
   "execution_count": 21,
   "metadata": {},
   "outputs": [
    {
     "name": "stdout",
     "output_type": "stream",
     "text": [
      "CPU times: user 868 ms, sys: 93.2 ms, total: 962 ms\n",
      "Wall time: 966 ms\n"
     ]
    },
    {
     "data": {
      "text/plain": [
       "(40000,\n",
       " [{'$$$$s',\n",
       "   '$$$si',\n",
       "   '$$sim',\n",
       "   '$simi',\n",
       "   'ar$$$',\n",
       "   'ilar$',\n",
       "   'imila',\n",
       "   'lar$$',\n",
       "   'milar',\n",
       "   'r$$$$',\n",
       "   'simil'},\n",
       "  {' usa$',\n",
       "   '$$$$p',\n",
       "   '$$$pr',\n",
       "   '$$pre',\n",
       "   '$pres',\n",
       "   'a$$$$',\n",
       "   'an us',\n",
       "   'byter',\n",
       "   'erian',\n",
       "   'esbyt',\n",
       "   'ian u',\n",
       "   'n usa',\n",
       "   'presb',\n",
       "   'resby',\n",
       "   'rian ',\n",
       "   'sa$$$',\n",
       "   'sbyte',\n",
       "   'teria',\n",
       "   'usa$$',\n",
       "   'yteri'}])"
      ]
     },
     "execution_count": 21,
     "metadata": {},
     "output_type": "execute_result"
    },
    {
     "data": {
      "application/javascript": [
       "\n",
       "            setTimeout(function() {\n",
       "                var nbb_cell_id = 21;\n",
       "                var nbb_unformatted_code = \"%%time\\n\\nfrom lshexp import shingle\\n\\nshingles = [shingle.all_ngrams(s, 5) for s in documents]\\nlen(shingles), shingles[:2]\";\n",
       "                var nbb_formatted_code = \"%%time\\n\\nfrom lshexp import shingle\\n\\nshingles = [shingle.all_ngrams(s, 5) for s in documents]\\nlen(shingles), shingles[:2]\";\n",
       "                var nbb_cells = Jupyter.notebook.get_cells();\n",
       "                for (var i = 0; i < nbb_cells.length; ++i) {\n",
       "                    if (nbb_cells[i].input_prompt_number == nbb_cell_id) {\n",
       "                        if (nbb_cells[i].get_text() == nbb_unformatted_code) {\n",
       "                             nbb_cells[i].set_text(nbb_formatted_code);\n",
       "                        }\n",
       "                        break;\n",
       "                    }\n",
       "                }\n",
       "            }, 500);\n",
       "            "
      ],
      "text/plain": [
       "<IPython.core.display.Javascript object>"
      ]
     },
     "metadata": {},
     "output_type": "display_data"
    }
   ],
   "source": [
    "%%time\n",
    "\n",
    "from lshexp import shingle\n",
    "\n",
    "shingles = [shingle.all_ngrams(s, 5) for s in documents]\n",
    "len(shingles), shingles[:2]"
   ]
  },
  {
   "cell_type": "code",
   "execution_count": 22,
   "metadata": {},
   "outputs": [
    {
     "data": {
      "application/javascript": [
       "\n",
       "            setTimeout(function() {\n",
       "                var nbb_cell_id = 22;\n",
       "                var nbb_unformatted_code = \"train = shingles[:5000]\";\n",
       "                var nbb_formatted_code = \"train = shingles[:5000]\";\n",
       "                var nbb_cells = Jupyter.notebook.get_cells();\n",
       "                for (var i = 0; i < nbb_cells.length; ++i) {\n",
       "                    if (nbb_cells[i].input_prompt_number == nbb_cell_id) {\n",
       "                        if (nbb_cells[i].get_text() == nbb_unformatted_code) {\n",
       "                             nbb_cells[i].set_text(nbb_formatted_code);\n",
       "                        }\n",
       "                        break;\n",
       "                    }\n",
       "                }\n",
       "            }, 500);\n",
       "            "
      ],
      "text/plain": [
       "<IPython.core.display.Javascript object>"
      ]
     },
     "metadata": {},
     "output_type": "display_data"
    }
   ],
   "source": [
    "train = shingles[:5000]"
   ]
  },
  {
   "cell_type": "code",
   "execution_count": 23,
   "metadata": {},
   "outputs": [
    {
     "data": {
      "application/javascript": [
       "\n",
       "            setTimeout(function() {\n",
       "                var nbb_cell_id = 23;\n",
       "                var nbb_unformatted_code = \"from datasketch import MinHashLSH, MinHash\\nimport murmurhash.mrmr\";\n",
       "                var nbb_formatted_code = \"from datasketch import MinHashLSH, MinHash\\nimport murmurhash.mrmr\";\n",
       "                var nbb_cells = Jupyter.notebook.get_cells();\n",
       "                for (var i = 0; i < nbb_cells.length; ++i) {\n",
       "                    if (nbb_cells[i].input_prompt_number == nbb_cell_id) {\n",
       "                        if (nbb_cells[i].get_text() == nbb_unformatted_code) {\n",
       "                             nbb_cells[i].set_text(nbb_formatted_code);\n",
       "                        }\n",
       "                        break;\n",
       "                    }\n",
       "                }\n",
       "            }, 500);\n",
       "            "
      ],
      "text/plain": [
       "<IPython.core.display.Javascript object>"
      ]
     },
     "metadata": {},
     "output_type": "display_data"
    }
   ],
   "source": [
    "from datasketch import MinHashLSH, MinHash\n",
    "import murmurhash.mrmr"
   ]
  },
  {
   "cell_type": "markdown",
   "metadata": {},
   "source": [
    "## Default datasketch LSH"
   ]
  },
  {
   "cell_type": "code",
   "execution_count": 123,
   "metadata": {},
   "outputs": [
    {
     "data": {
      "application/javascript": [
       "\n",
       "            setTimeout(function() {\n",
       "                var nbb_cell_id = 123;\n",
       "                var nbb_unformatted_code = \"j_threshold = 0.6\";\n",
       "                var nbb_formatted_code = \"j_threshold = 0.6\";\n",
       "                var nbb_cells = Jupyter.notebook.get_cells();\n",
       "                for (var i = 0; i < nbb_cells.length; ++i) {\n",
       "                    if (nbb_cells[i].input_prompt_number == nbb_cell_id) {\n",
       "                        if (nbb_cells[i].get_text() == nbb_unformatted_code) {\n",
       "                             nbb_cells[i].set_text(nbb_formatted_code);\n",
       "                        }\n",
       "                        break;\n",
       "                    }\n",
       "                }\n",
       "            }, 500);\n",
       "            "
      ],
      "text/plain": [
       "<IPython.core.display.Javascript object>"
      ]
     },
     "metadata": {},
     "output_type": "display_data"
    }
   ],
   "source": [
    "j_threshold = 0.6"
   ]
  },
  {
   "cell_type": "code",
   "execution_count": 124,
   "metadata": {},
   "outputs": [
    {
     "name": "stdout",
     "output_type": "stream",
     "text": [
      "CPU times: user 8.13 s, sys: 43.2 ms, total: 8.18 s\n",
      "Wall time: 8.19 s\n"
     ]
    },
    {
     "data": {
      "text/plain": [
       "'17.7 MB'"
      ]
     },
     "execution_count": 124,
     "metadata": {},
     "output_type": "execute_result"
    },
    {
     "data": {
      "application/javascript": [
       "\n",
       "            setTimeout(function() {\n",
       "                var nbb_cell_id = 124;\n",
       "                var nbb_unformatted_code = \"%%time\\nn_hashes = 64\\n\\ndef datasketch_minhash(shingles: List[str]):\\n    m = MinHash(n_hashes)\\n    m.update_batch([s.encode(\\\"utf8\\\") for s in shingles])\\n    return m\\n\\nlsh_datasketch_default = MinHashLSH(threshold=j_threshold, num_perm=n_hashes)\\nfor i, row_shingles in enumerate(train):\\n    lsh_datasketch_default.insert(i, datasketch_minhash(row_shingles))\\n    \\nnaturalsize(asizeof(lsh_datasketch_default))\";\n",
       "                var nbb_formatted_code = \"%%time\\nn_hashes = 64\\n\\ndef datasketch_minhash(shingles: List[str]):\\n    m = MinHash(n_hashes)\\n    m.update_batch([s.encode(\\\"utf8\\\") for s in shingles])\\n    return m\\n\\nlsh_datasketch_default = MinHashLSH(threshold=j_threshold, num_perm=n_hashes)\\nfor i, row_shingles in enumerate(train):\\n    lsh_datasketch_default.insert(i, datasketch_minhash(row_shingles))\\n    \\nnaturalsize(asizeof(lsh_datasketch_default))\";\n",
       "                var nbb_cells = Jupyter.notebook.get_cells();\n",
       "                for (var i = 0; i < nbb_cells.length; ++i) {\n",
       "                    if (nbb_cells[i].input_prompt_number == nbb_cell_id) {\n",
       "                        if (nbb_cells[i].get_text() == nbb_unformatted_code) {\n",
       "                             nbb_cells[i].set_text(nbb_formatted_code);\n",
       "                        }\n",
       "                        break;\n",
       "                    }\n",
       "                }\n",
       "            }, 500);\n",
       "            "
      ],
      "text/plain": [
       "<IPython.core.display.Javascript object>"
      ]
     },
     "metadata": {},
     "output_type": "display_data"
    }
   ],
   "source": [
    "%%time\n",
    "n_hashes = 64\n",
    "\n",
    "def datasketch_minhash(shingles: List[str]):\n",
    "    m = MinHash(n_hashes)\n",
    "    m.update_batch([s.encode(\"utf8\") for s in shingles])\n",
    "    return m\n",
    "\n",
    "lsh_datasketch_default = MinHashLSH(threshold=j_threshold, num_perm=n_hashes)\n",
    "for i, row_shingles in enumerate(train):\n",
    "    lsh_datasketch_default.insert(i, datasketch_minhash(row_shingles))\n",
    "    \n",
    "naturalsize(asizeof(lsh_datasketch_default))"
   ]
  },
  {
   "cell_type": "markdown",
   "metadata": {},
   "source": [
    "## Datasketch with hash function for LSH"
   ]
  },
  {
   "cell_type": "code",
   "execution_count": 125,
   "metadata": {},
   "outputs": [
    {
     "name": "stdout",
     "output_type": "stream",
     "text": [
      "CPU times: user 8.33 s, sys: 39.8 ms, total: 8.37 s\n",
      "Wall time: 8.41 s\n"
     ]
    },
    {
     "data": {
      "text/plain": [
       "'14.9 MB'"
      ]
     },
     "execution_count": 125,
     "metadata": {},
     "output_type": "execute_result"
    },
    {
     "data": {
      "application/javascript": [
       "\n",
       "            setTimeout(function() {\n",
       "                var nbb_cell_id = 125;\n",
       "                var nbb_unformatted_code = \"%%time\\nhashfunc=murmurhash.mrmr.hash\\n\\nlsh_datasketch_murmur = MinHashLSH(threshold=j_threshold, num_perm=n_hashes, hashfunc=hashfunc)\\nfor i, row_shingles in enumerate(train):\\n    lsh_datasketch_murmur.insert(i, datasketch_minhash(row_shingles))\\n    \\nnaturalsize(asizeof(lsh_datasketch_murmur))\";\n",
       "                var nbb_formatted_code = \"%%time\\nhashfunc=murmurhash.mrmr.hash\\n\\nlsh_datasketch_murmur = MinHashLSH(threshold=j_threshold, num_perm=n_hashes, hashfunc=hashfunc)\\nfor i, row_shingles in enumerate(train):\\n    lsh_datasketch_murmur.insert(i, datasketch_minhash(row_shingles))\\n    \\nnaturalsize(asizeof(lsh_datasketch_murmur))\";\n",
       "                var nbb_cells = Jupyter.notebook.get_cells();\n",
       "                for (var i = 0; i < nbb_cells.length; ++i) {\n",
       "                    if (nbb_cells[i].input_prompt_number == nbb_cell_id) {\n",
       "                        if (nbb_cells[i].get_text() == nbb_unformatted_code) {\n",
       "                             nbb_cells[i].set_text(nbb_formatted_code);\n",
       "                        }\n",
       "                        break;\n",
       "                    }\n",
       "                }\n",
       "            }, 500);\n",
       "            "
      ],
      "text/plain": [
       "<IPython.core.display.Javascript object>"
      ]
     },
     "metadata": {},
     "output_type": "display_data"
    }
   ],
   "source": [
    "%%time\n",
    "hashfunc=murmurhash.mrmr.hash\n",
    "\n",
    "lsh_datasketch_murmur = MinHashLSH(threshold=j_threshold, num_perm=n_hashes, hashfunc=hashfunc)\n",
    "for i, row_shingles in enumerate(train):\n",
    "    lsh_datasketch_murmur.insert(i, datasketch_minhash(row_shingles))\n",
    "    \n",
    "naturalsize(asizeof(lsh_datasketch_murmur))"
   ]
  },
  {
   "cell_type": "code",
   "execution_count": 126,
   "metadata": {},
   "outputs": [
    {
     "data": {
      "text/plain": [
       "10"
      ]
     },
     "execution_count": 126,
     "metadata": {},
     "output_type": "execute_result"
    },
    {
     "data": {
      "application/javascript": [
       "\n",
       "            setTimeout(function() {\n",
       "                var nbb_cell_id = 126;\n",
       "                var nbb_unformatted_code = \"len(lsh_datasketch_murmur.hashtables)\";\n",
       "                var nbb_formatted_code = \"len(lsh_datasketch_murmur.hashtables)\";\n",
       "                var nbb_cells = Jupyter.notebook.get_cells();\n",
       "                for (var i = 0; i < nbb_cells.length; ++i) {\n",
       "                    if (nbb_cells[i].input_prompt_number == nbb_cell_id) {\n",
       "                        if (nbb_cells[i].get_text() == nbb_unformatted_code) {\n",
       "                             nbb_cells[i].set_text(nbb_formatted_code);\n",
       "                        }\n",
       "                        break;\n",
       "                    }\n",
       "                }\n",
       "            }, 500);\n",
       "            "
      ],
      "text/plain": [
       "<IPython.core.display.Javascript object>"
      ]
     },
     "metadata": {},
     "output_type": "display_data"
    }
   ],
   "source": [
    "len(lsh_datasketch_murmur.hashtables)"
   ]
  },
  {
   "cell_type": "markdown",
   "metadata": {},
   "source": [
    "## Own LSH"
   ]
  },
  {
   "cell_type": "code",
   "execution_count": 127,
   "metadata": {},
   "outputs": [
    {
     "data": {
      "application/javascript": [
       "\n",
       "            setTimeout(function() {\n",
       "                var nbb_cell_id = 127;\n",
       "                var nbb_unformatted_code = \"from lshexp import minhash as mh\\n\\nlsh_lshexp = mh.LSH(n_hashes=n_hashes, bands=lsh_datasketch_murmur.b)\\nminhash_lshexp = mh.make_minhash_generator(n_hashes=n_hashes)\\n\\n\\ndef lsh_lshexp_minhash(shingles: List[str]):\\n    return minhash_lshexp(shingles)\\n    return datasketch_minhash(shingles).hashvalues\";\n",
       "                var nbb_formatted_code = \"from lshexp import minhash as mh\\n\\nlsh_lshexp = mh.LSH(n_hashes=n_hashes, bands=lsh_datasketch_murmur.b)\\nminhash_lshexp = mh.make_minhash_generator(n_hashes=n_hashes)\\n\\n\\ndef lsh_lshexp_minhash(shingles: List[str]):\\n    return minhash_lshexp(shingles)\\n    return datasketch_minhash(shingles).hashvalues\";\n",
       "                var nbb_cells = Jupyter.notebook.get_cells();\n",
       "                for (var i = 0; i < nbb_cells.length; ++i) {\n",
       "                    if (nbb_cells[i].input_prompt_number == nbb_cell_id) {\n",
       "                        if (nbb_cells[i].get_text() == nbb_unformatted_code) {\n",
       "                             nbb_cells[i].set_text(nbb_formatted_code);\n",
       "                        }\n",
       "                        break;\n",
       "                    }\n",
       "                }\n",
       "            }, 500);\n",
       "            "
      ],
      "text/plain": [
       "<IPython.core.display.Javascript object>"
      ]
     },
     "metadata": {},
     "output_type": "display_data"
    }
   ],
   "source": [
    "from lshexp import minhash as mh\n",
    "\n",
    "lsh_lshexp = mh.LSH(n_hashes=n_hashes, bands=lsh_datasketch_murmur.b)\n",
    "minhash_lshexp = mh.make_minhash_generator(n_hashes=n_hashes)\n",
    "\n",
    "\n",
    "def lsh_lshexp_minhash(shingles: List[str]):\n",
    "    return minhash_lshexp(shingles)\n",
    "    return datasketch_minhash(shingles).hashvalues"
   ]
  },
  {
   "cell_type": "code",
   "execution_count": 91,
   "metadata": {},
   "outputs": [
    {
     "name": "stdout",
     "output_type": "stream",
     "text": [
      "2278732690\n",
      "<class 'int'>\n",
      "493516\n",
      "658 µs ± 9.7 µs per loop (mean ± std. dev. of 7 runs, 1000 loops each)\n"
     ]
    },
    {
     "data": {
      "application/javascript": [
       "\n",
       "            setTimeout(function() {\n",
       "                var nbb_cell_id = 91;\n",
       "                var nbb_unformatted_code = \"print(mh.hash32(b\\\"askjdfklj\\\"))\\nprint(type(mh.hash32(b\\\"askjdfklj\\\")))\\nd = [b.encode(\\\"utf-8\\\") for b in documents[:1000]]\\nprint(min(map(mh.hash32, d)))\\n%timeit list(map(mh.hash32, d))\";\n",
       "                var nbb_formatted_code = \"print(mh.hash32(b\\\"askjdfklj\\\"))\\nprint(type(mh.hash32(b\\\"askjdfklj\\\")))\\nd = [b.encode(\\\"utf-8\\\") for b in documents[:1000]]\\nprint(min(map(mh.hash32, d)))\\n%timeit list(map(mh.hash32, d))\";\n",
       "                var nbb_cells = Jupyter.notebook.get_cells();\n",
       "                for (var i = 0; i < nbb_cells.length; ++i) {\n",
       "                    if (nbb_cells[i].input_prompt_number == nbb_cell_id) {\n",
       "                        if (nbb_cells[i].get_text() == nbb_unformatted_code) {\n",
       "                             nbb_cells[i].set_text(nbb_formatted_code);\n",
       "                        }\n",
       "                        break;\n",
       "                    }\n",
       "                }\n",
       "            }, 500);\n",
       "            "
      ],
      "text/plain": [
       "<IPython.core.display.Javascript object>"
      ]
     },
     "metadata": {},
     "output_type": "display_data"
    }
   ],
   "source": [
    "print(mh.hash32(b\"askjdfklj\"))\n",
    "print(type(mh.hash32(b\"askjdfklj\")))\n",
    "d = [b.encode(\"utf-8\") for b in documents[:1000]]\n",
    "print(min(map(mh.hash32, d)))\n",
    "%timeit list(map(mh.hash32, d))"
   ]
  },
  {
   "cell_type": "code",
   "execution_count": 111,
   "metadata": {},
   "outputs": [
    {
     "name": "stdout",
     "output_type": "stream",
     "text": [
      "590 µs ± 14.4 µs per loop (mean ± std. dev. of 7 runs, 1000 loops each)\n"
     ]
    },
    {
     "data": {
      "application/javascript": [
       "\n",
       "            setTimeout(function() {\n",
       "                var nbb_cell_id = 111;\n",
       "                var nbb_unformatted_code = \"%timeit minhash_lshexp(train[0])\";\n",
       "                var nbb_formatted_code = \"%timeit minhash_lshexp(train[0])\";\n",
       "                var nbb_cells = Jupyter.notebook.get_cells();\n",
       "                for (var i = 0; i < nbb_cells.length; ++i) {\n",
       "                    if (nbb_cells[i].input_prompt_number == nbb_cell_id) {\n",
       "                        if (nbb_cells[i].get_text() == nbb_unformatted_code) {\n",
       "                             nbb_cells[i].set_text(nbb_formatted_code);\n",
       "                        }\n",
       "                        break;\n",
       "                    }\n",
       "                }\n",
       "            }, 500);\n",
       "            "
      ],
      "text/plain": [
       "<IPython.core.display.Javascript object>"
      ]
     },
     "metadata": {},
     "output_type": "display_data"
    }
   ],
   "source": [
    "%timeit minhash_lshexp(train[0])"
   ]
  },
  {
   "cell_type": "code",
   "execution_count": 72,
   "metadata": {},
   "outputs": [
    {
     "name": "stdout",
     "output_type": "stream",
     "text": [
      "1.26 ms ± 5.37 µs per loop (mean ± std. dev. of 7 runs, 1000 loops each)\n"
     ]
    },
    {
     "data": {
      "application/javascript": [
       "\n",
       "            setTimeout(function() {\n",
       "                var nbb_cell_id = 72;\n",
       "                var nbb_unformatted_code = \"%timeit datasketch_minhash(train[0]).hashvalues\";\n",
       "                var nbb_formatted_code = \"%timeit datasketch_minhash(train[0]).hashvalues\";\n",
       "                var nbb_cells = Jupyter.notebook.get_cells();\n",
       "                for (var i = 0; i < nbb_cells.length; ++i) {\n",
       "                    if (nbb_cells[i].input_prompt_number == nbb_cell_id) {\n",
       "                        if (nbb_cells[i].get_text() == nbb_unformatted_code) {\n",
       "                             nbb_cells[i].set_text(nbb_formatted_code);\n",
       "                        }\n",
       "                        break;\n",
       "                    }\n",
       "                }\n",
       "            }, 500);\n",
       "            "
      ],
      "text/plain": [
       "<IPython.core.display.Javascript object>"
      ]
     },
     "metadata": {},
     "output_type": "display_data"
    }
   ],
   "source": [
    "%timeit datasketch_minhash(train[0]).hashvalues"
   ]
  },
  {
   "cell_type": "code",
   "execution_count": 128,
   "metadata": {},
   "outputs": [
    {
     "name": "stdout",
     "output_type": "stream",
     "text": [
      "CPU times: user 4.42 s, sys: 3.27 ms, total: 4.42 s\n",
      "Wall time: 4.44 s\n"
     ]
    },
    {
     "data": {
      "text/plain": [
       "'14.2 MB'"
      ]
     },
     "execution_count": 128,
     "metadata": {},
     "output_type": "execute_result"
    },
    {
     "data": {
      "application/javascript": [
       "\n",
       "            setTimeout(function() {\n",
       "                var nbb_cell_id = 128;\n",
       "                var nbb_unformatted_code = \"%%time\\n\\nfor i, row_shingles in enumerate(train):\\n    lsh_lshexp.insert(lsh_lshexp_minhash(row_shingles), i)\\n    \\nnaturalsize(asizeof(lsh_lshexp))\";\n",
       "                var nbb_formatted_code = \"%%time\\n\\nfor i, row_shingles in enumerate(train):\\n    lsh_lshexp.insert(lsh_lshexp_minhash(row_shingles), i)\\n    \\nnaturalsize(asizeof(lsh_lshexp))\";\n",
       "                var nbb_cells = Jupyter.notebook.get_cells();\n",
       "                for (var i = 0; i < nbb_cells.length; ++i) {\n",
       "                    if (nbb_cells[i].input_prompt_number == nbb_cell_id) {\n",
       "                        if (nbb_cells[i].get_text() == nbb_unformatted_code) {\n",
       "                             nbb_cells[i].set_text(nbb_formatted_code);\n",
       "                        }\n",
       "                        break;\n",
       "                    }\n",
       "                }\n",
       "            }, 500);\n",
       "            "
      ],
      "text/plain": [
       "<IPython.core.display.Javascript object>"
      ]
     },
     "metadata": {},
     "output_type": "display_data"
    }
   ],
   "source": [
    "%%time\n",
    "\n",
    "for i, row_shingles in enumerate(train):\n",
    "    lsh_lshexp.insert(lsh_lshexp_minhash(row_shingles), i)\n",
    "    \n",
    "naturalsize(asizeof(lsh_lshexp))"
   ]
  },
  {
   "cell_type": "markdown",
   "metadata": {},
   "source": [
    "## Testing the LSHs\n",
    "\n",
    "- precision\n",
    "- recall\n",
    "- plot jaccard-similarity -> probability to become candidate\n",
    "- storage size\n",
    "- indexing time\n",
    "- lookup time"
   ]
  },
  {
   "cell_type": "code",
   "execution_count": 129,
   "metadata": {},
   "outputs": [
    {
     "data": {
      "text/plain": [
       "(5001, '192.7 MB', 34234, '150.4 MB')"
      ]
     },
     "execution_count": 129,
     "metadata": {},
     "output_type": "execute_result"
    },
    {
     "data": {
      "application/javascript": [
       "\n",
       "            setTimeout(function() {\n",
       "                var nbb_cell_id = 129;\n",
       "                var nbb_unformatted_code = \"df = pd.DataFrame(\\n    dict(\\n        documents=documents,\\n        shingles=shingles,\\n    )\\n)\\ndf_train = df.loc[: len(train)]\\ndf_test = df.iloc[len(train) :].drop_duplicates(subset=[\\\"documents\\\"])\\n\\nlen(df_train), naturalsize(asizeof(df_train)), len(df_test), naturalsize(\\n    asizeof(df_test)\\n)\";\n",
       "                var nbb_formatted_code = \"df = pd.DataFrame(\\n    dict(\\n        documents=documents,\\n        shingles=shingles,\\n    )\\n)\\ndf_train = df.loc[: len(train)]\\ndf_test = df.iloc[len(train) :].drop_duplicates(subset=[\\\"documents\\\"])\\n\\nlen(df_train), naturalsize(asizeof(df_train)), len(df_test), naturalsize(\\n    asizeof(df_test)\\n)\";\n",
       "                var nbb_cells = Jupyter.notebook.get_cells();\n",
       "                for (var i = 0; i < nbb_cells.length; ++i) {\n",
       "                    if (nbb_cells[i].input_prompt_number == nbb_cell_id) {\n",
       "                        if (nbb_cells[i].get_text() == nbb_unformatted_code) {\n",
       "                             nbb_cells[i].set_text(nbb_formatted_code);\n",
       "                        }\n",
       "                        break;\n",
       "                    }\n",
       "                }\n",
       "            }, 500);\n",
       "            "
      ],
      "text/plain": [
       "<IPython.core.display.Javascript object>"
      ]
     },
     "metadata": {},
     "output_type": "display_data"
    }
   ],
   "source": [
    "df = pd.DataFrame(\n",
    "    dict(\n",
    "        documents=documents,\n",
    "        shingles=shingles,\n",
    "    )\n",
    ")\n",
    "df_train = df.loc[: len(train)]\n",
    "df_test = df.iloc[len(train) :].drop_duplicates(subset=[\"documents\"])\n",
    "\n",
    "len(df_train), naturalsize(asizeof(df_train)), len(df_test), naturalsize(\n",
    "    asizeof(df_test)\n",
    ")"
   ]
  },
  {
   "cell_type": "code",
   "execution_count": 131,
   "metadata": {},
   "outputs": [
    {
     "name": "stdout",
     "output_type": "stream",
     "text": [
      "0 {'lsh_datasketch_default': (0.6666666666666666, 3), 'lsh_datasketch_murmur': (0.6666666666666666, 3), 'lsh_lshexp': (0.6666666666666666, 3)}\n",
      "500 {'lsh_datasketch_default': (0.8571428571428571, 7), 'lsh_datasketch_murmur': (0.8571428571428571, 7), 'lsh_lshexp': (0.75, 8)}\n",
      "1000 {'lsh_datasketch_default': (0.25, 4), 'lsh_datasketch_murmur': (0.25, 4), 'lsh_lshexp': (0.5, 2)}\n",
      "1500 {'lsh_datasketch_default': (0.8, 5), 'lsh_datasketch_murmur': (0.8, 5), 'lsh_lshexp': (1.0, 4)}\n",
      "CPU times: user 6.99 s, sys: 10 ms, total: 7 s\n",
      "Wall time: 7.01 s\n"
     ]
    },
    {
     "data": {
      "text/html": [
       "<div>\n",
       "<style scoped>\n",
       "    .dataframe tbody tr th:only-of-type {\n",
       "        vertical-align: middle;\n",
       "    }\n",
       "\n",
       "    .dataframe tbody tr th {\n",
       "        vertical-align: top;\n",
       "    }\n",
       "\n",
       "    .dataframe thead th {\n",
       "        text-align: right;\n",
       "    }\n",
       "</style>\n",
       "<table border=\"1\" class=\"dataframe\">\n",
       "  <thead>\n",
       "    <tr style=\"text-align: right;\">\n",
       "      <th></th>\n",
       "      <th>precision_lsh_datasketch_default</th>\n",
       "      <th>precision_lsh_datasketch_murmur</th>\n",
       "      <th>precision_lsh_lshexp</th>\n",
       "      <th>support_lsh_datasketch_default</th>\n",
       "      <th>support_lsh_datasketch_murmur</th>\n",
       "      <th>support_lsh_lshexp</th>\n",
       "    </tr>\n",
       "  </thead>\n",
       "  <tbody>\n",
       "    <tr>\n",
       "      <th>count</th>\n",
       "      <td>4.000000</td>\n",
       "      <td>4.000000</td>\n",
       "      <td>4.000000</td>\n",
       "      <td>4.000000</td>\n",
       "      <td>4.000000</td>\n",
       "      <td>4.000000</td>\n",
       "    </tr>\n",
       "    <tr>\n",
       "      <th>mean</th>\n",
       "      <td>0.643452</td>\n",
       "      <td>0.643452</td>\n",
       "      <td>0.729167</td>\n",
       "      <td>4.750000</td>\n",
       "      <td>4.750000</td>\n",
       "      <td>4.250000</td>\n",
       "    </tr>\n",
       "    <tr>\n",
       "      <th>std</th>\n",
       "      <td>0.274174</td>\n",
       "      <td>0.274174</td>\n",
       "      <td>0.208333</td>\n",
       "      <td>1.707825</td>\n",
       "      <td>1.707825</td>\n",
       "      <td>2.629956</td>\n",
       "    </tr>\n",
       "    <tr>\n",
       "      <th>min</th>\n",
       "      <td>0.250000</td>\n",
       "      <td>0.250000</td>\n",
       "      <td>0.500000</td>\n",
       "      <td>3.000000</td>\n",
       "      <td>3.000000</td>\n",
       "      <td>2.000000</td>\n",
       "    </tr>\n",
       "    <tr>\n",
       "      <th>25%</th>\n",
       "      <td>0.562500</td>\n",
       "      <td>0.562500</td>\n",
       "      <td>0.625000</td>\n",
       "      <td>3.750000</td>\n",
       "      <td>3.750000</td>\n",
       "      <td>2.750000</td>\n",
       "    </tr>\n",
       "    <tr>\n",
       "      <th>50%</th>\n",
       "      <td>0.733333</td>\n",
       "      <td>0.733333</td>\n",
       "      <td>0.708333</td>\n",
       "      <td>4.500000</td>\n",
       "      <td>4.500000</td>\n",
       "      <td>3.500000</td>\n",
       "    </tr>\n",
       "    <tr>\n",
       "      <th>75%</th>\n",
       "      <td>0.814286</td>\n",
       "      <td>0.814286</td>\n",
       "      <td>0.812500</td>\n",
       "      <td>5.500000</td>\n",
       "      <td>5.500000</td>\n",
       "      <td>5.000000</td>\n",
       "    </tr>\n",
       "    <tr>\n",
       "      <th>max</th>\n",
       "      <td>0.857143</td>\n",
       "      <td>0.857143</td>\n",
       "      <td>1.000000</td>\n",
       "      <td>7.000000</td>\n",
       "      <td>7.000000</td>\n",
       "      <td>8.000000</td>\n",
       "    </tr>\n",
       "  </tbody>\n",
       "</table>\n",
       "</div>"
      ],
      "text/plain": [
       "       precision_lsh_datasketch_default  precision_lsh_datasketch_murmur  \\\n",
       "count                          4.000000                         4.000000   \n",
       "mean                           0.643452                         0.643452   \n",
       "std                            0.274174                         0.274174   \n",
       "min                            0.250000                         0.250000   \n",
       "25%                            0.562500                         0.562500   \n",
       "50%                            0.733333                         0.733333   \n",
       "75%                            0.814286                         0.814286   \n",
       "max                            0.857143                         0.857143   \n",
       "\n",
       "       precision_lsh_lshexp  support_lsh_datasketch_default  \\\n",
       "count              4.000000                        4.000000   \n",
       "mean               0.729167                        4.750000   \n",
       "std                0.208333                        1.707825   \n",
       "min                0.500000                        3.000000   \n",
       "25%                0.625000                        3.750000   \n",
       "50%                0.708333                        4.500000   \n",
       "75%                0.812500                        5.500000   \n",
       "max                1.000000                        7.000000   \n",
       "\n",
       "       support_lsh_datasketch_murmur  support_lsh_lshexp  \n",
       "count                       4.000000            4.000000  \n",
       "mean                        4.750000            4.250000  \n",
       "std                         1.707825            2.629956  \n",
       "min                         3.000000            2.000000  \n",
       "25%                         3.750000            2.750000  \n",
       "50%                         4.500000            3.500000  \n",
       "75%                         5.500000            5.000000  \n",
       "max                         7.000000            8.000000  "
      ]
     },
     "execution_count": 131,
     "metadata": {},
     "output_type": "execute_result"
    },
    {
     "data": {
      "application/javascript": [
       "\n",
       "            setTimeout(function() {\n",
       "                var nbb_cell_id = 131;\n",
       "                var nbb_unformatted_code = \"%%time\\nimport lshexp.metrics\\n\\ndef calculate_precision(\\n    shingle_series, shingle_series_train, lsh_query_fn, jaccard_threshold\\n):\\n    results = shingle_series.apply(lsh_query_fn)\\n    #     results = candidates.loc[candidates.apply(bool)]\\n    n_correct = 0\\n    n_total = 0\\n    for left_shingles, candidate_list in zip(shingle_series, results):\\n        n_total += len(candidate_list)\\n        for c in candidate_list:\\n            right_shingles = shingle_series_train[c]\\n            j = lshexp.metrics.jaccard_similarity(left_shingles, right_shingles)\\n            if j >= jaccard_threshold:\\n                n_correct += 1\\n    if n_total == 0:\\n        return 1.0, 0\\n    return n_correct/n_total, n_total\\n\\nchunk_size = 500\\nprecisions = []\\nfor start_index in range(0, min(len(df_test), 2000), chunk_size):\\n    precision = {\\n        name: calculate_precision(\\n            df_test[\\\"shingles\\\"][start_index:start_index+chunk_size],\\n            df_train[\\\"shingles\\\"],\\n            query_fn,\\n            j_threshold,\\n        )\\n        for name, query_fn in [\\n            (\\n                \\\"lsh_datasketch_default\\\",\\n                lambda s: lsh_datasketch_default.query(datasketch_minhash(s)),\\n            ),\\n            (\\n                \\\"lsh_datasketch_murmur\\\",\\n                lambda s: lsh_datasketch_murmur.query(datasketch_minhash(s)),\\n            ),\\n            (\\\"lsh_lshexp\\\", lambda s: lsh_lshexp.query(lsh_lshexp_minhash(s))),\\n        ]\\n    }\\n    print(start_index, precision)\\n    precisions.append(\\n        {\\\"precision_\\\"+key: v[0] for key, v in precision.items()} |\\n        {\\\"support_\\\"+key: v[1] for key, v in precision.items()} \\n    )\\npd.DataFrame.from_records(precisions).describe()\";\n",
       "                var nbb_formatted_code = \"%%time\\nimport lshexp.metrics\\n\\ndef calculate_precision(\\n    shingle_series, shingle_series_train, lsh_query_fn, jaccard_threshold\\n):\\n    results = shingle_series.apply(lsh_query_fn)\\n    #     results = candidates.loc[candidates.apply(bool)]\\n    n_correct = 0\\n    n_total = 0\\n    for left_shingles, candidate_list in zip(shingle_series, results):\\n        n_total += len(candidate_list)\\n        for c in candidate_list:\\n            right_shingles = shingle_series_train[c]\\n            j = lshexp.metrics.jaccard_similarity(left_shingles, right_shingles)\\n            if j >= jaccard_threshold:\\n                n_correct += 1\\n    if n_total == 0:\\n        return 1.0, 0\\n    return n_correct/n_total, n_total\\n\\nchunk_size = 500\\nprecisions = []\\nfor start_index in range(0, min(len(df_test), 2000), chunk_size):\\n    precision = {\\n        name: calculate_precision(\\n            df_test[\\\"shingles\\\"][start_index:start_index+chunk_size],\\n            df_train[\\\"shingles\\\"],\\n            query_fn,\\n            j_threshold,\\n        )\\n        for name, query_fn in [\\n            (\\n                \\\"lsh_datasketch_default\\\",\\n                lambda s: lsh_datasketch_default.query(datasketch_minhash(s)),\\n            ),\\n            (\\n                \\\"lsh_datasketch_murmur\\\",\\n                lambda s: lsh_datasketch_murmur.query(datasketch_minhash(s)),\\n            ),\\n            (\\\"lsh_lshexp\\\", lambda s: lsh_lshexp.query(lsh_lshexp_minhash(s))),\\n        ]\\n    }\\n    print(start_index, precision)\\n    precisions.append(\\n        {\\\"precision_\\\"+key: v[0] for key, v in precision.items()} |\\n        {\\\"support_\\\"+key: v[1] for key, v in precision.items()} \\n    )\\npd.DataFrame.from_records(precisions).describe()\";\n",
       "                var nbb_cells = Jupyter.notebook.get_cells();\n",
       "                for (var i = 0; i < nbb_cells.length; ++i) {\n",
       "                    if (nbb_cells[i].input_prompt_number == nbb_cell_id) {\n",
       "                        if (nbb_cells[i].get_text() == nbb_unformatted_code) {\n",
       "                             nbb_cells[i].set_text(nbb_formatted_code);\n",
       "                        }\n",
       "                        break;\n",
       "                    }\n",
       "                }\n",
       "            }, 500);\n",
       "            "
      ],
      "text/plain": [
       "<IPython.core.display.Javascript object>"
      ]
     },
     "metadata": {},
     "output_type": "display_data"
    }
   ],
   "source": [
    "%%time\n",
    "import lshexp.metrics\n",
    "\n",
    "def calculate_precision(\n",
    "    shingle_series, shingle_series_train, lsh_query_fn, jaccard_threshold\n",
    "):\n",
    "    results = shingle_series.apply(lsh_query_fn)\n",
    "    #     results = candidates.loc[candidates.apply(bool)]\n",
    "    n_correct = 0\n",
    "    n_total = 0\n",
    "    for left_shingles, candidate_list in zip(shingle_series, results):\n",
    "        n_total += len(candidate_list)\n",
    "        for c in candidate_list:\n",
    "            right_shingles = shingle_series_train[c]\n",
    "            j = lshexp.metrics.jaccard_similarity(left_shingles, right_shingles)\n",
    "            if j >= jaccard_threshold:\n",
    "                n_correct += 1\n",
    "    if n_total == 0:\n",
    "        return 1.0, 0\n",
    "    return n_correct/n_total, n_total\n",
    "\n",
    "chunk_size = 500\n",
    "precisions = []\n",
    "for start_index in range(0, min(len(df_test), 2000), chunk_size):\n",
    "    precision = {\n",
    "        name: calculate_precision(\n",
    "            df_test[\"shingles\"][start_index:start_index+chunk_size],\n",
    "            df_train[\"shingles\"],\n",
    "            query_fn,\n",
    "            j_threshold,\n",
    "        )\n",
    "        for name, query_fn in [\n",
    "            (\n",
    "                \"lsh_datasketch_default\",\n",
    "                lambda s: lsh_datasketch_default.query(datasketch_minhash(s)),\n",
    "            ),\n",
    "            (\n",
    "                \"lsh_datasketch_murmur\",\n",
    "                lambda s: lsh_datasketch_murmur.query(datasketch_minhash(s)),\n",
    "            ),\n",
    "            (\"lsh_lshexp\", lambda s: lsh_lshexp.query(lsh_lshexp_minhash(s))),\n",
    "        ]\n",
    "    }\n",
    "    print(start_index, precision)\n",
    "    precisions.append(\n",
    "        {\"precision_\"+key: v[0] for key, v in precision.items()} |\n",
    "        {\"support_\"+key: v[1] for key, v in precision.items()} \n",
    "    )\n",
    "pd.DataFrame.from_records(precisions).describe()"
   ]
  },
  {
   "cell_type": "code",
   "execution_count": 132,
   "metadata": {},
   "outputs": [
    {
     "name": "stderr",
     "output_type": "stream",
     "text": [
      "/home/christian/.cache/pypoetry/virtualenvs/lsh-experiments-Ll1AlaQ1-py3.9/lib/python3.9/site-packages/pandas/core/indexing.py:1732: SettingWithCopyWarning: \n",
      "A value is trying to be set on a copy of a slice from a DataFrame\n",
      "\n",
      "See the caveats in the documentation: https://pandas.pydata.org/pandas-docs/stable/user_guide/indexing.html#returning-a-view-versus-a-copy\n",
      "  self._setitem_single_block(indexer, value, name)\n"
     ]
    },
    {
     "name": "stdout",
     "output_type": "stream",
     "text": [
      "20 rounds, 0 samples, 0 thereof < 1\n",
      "CPU times: user 12 s, sys: 26.3 ms, total: 12 s\n",
      "Wall time: 12 s\n"
     ]
    },
    {
     "data": {
      "image/png": "[encoded data removed]",
      "text/plain": [
       "<Figure size 432x288 with 1 Axes>"
      ]
     },
     "metadata": {
      "needs_background": "light"
     },
     "output_type": "display_data"
    },
    {
     "data": {
      "application/javascript": [
       "\n",
       "            setTimeout(function() {\n",
       "                var nbb_cell_id = 132;\n",
       "                var nbb_unformatted_code = \"%%time\\nimport lshexp.metrics\\n\\n\\ndef add_train_samples_with_jaccard(df, train: pd.DataFrame, threshold):\\n    zeroes = df[\\\"jaccard\\\"] < threshold\\n    samples = train.sample(sum(zeroes), replace=True)\\n    samples = samples.assign(index_y=list(samples.index)).set_index(\\n        zeroes.loc[zeroes].index.values\\n    )\\n    df[\\\"documents_y\\\"].loc[zeroes] = samples[\\\"documents\\\"]\\n    df[\\\"shingles_y\\\"].loc[zeroes] = samples[\\\"shingles\\\"]\\n    df[\\\"index_y\\\"].loc[zeroes] = samples[\\\"index_y\\\"]\\n    df[\\\"jaccard\\\"].loc[zeroes] = (\\n        df[[\\\"shingles\\\", \\\"shingles_y\\\"]]\\n        .loc[zeroes]\\n        .apply(lambda row: lshexp.metrics.jaccard_similarity(*row), axis=1, raw=True)\\n    )\\n\\n# df_test = df_test.merge(\\n#     df_train.sample(len(df_test), replace=True).set_index(df_test.index.values),\\n#     left_index=True,\\n#     right_index=True,\\n#     suffixes=[\\\"\\\", \\\"_y\\\"],\\n# )\\ndf_test = df_test.assign(documents_y=None, shingles_y=None, index_y=0, jaccard=0.0)\\n# df_test[\\\"jaccard\\\"] = df_test[[\\\"shingles\\\", \\\"shingles_y\\\"]].apply(\\n#     lambda row: lshexp.metrics.jaccard_similarity(*row), axis=1, raw=True\\n# )\\ni = 0\\nwhile (df_test[\\\"jaccard\\\"] < j_threshold).sum() > 0.1 * len(df_test) and i < 20:\\n    add_train_samples_with_jaccard(df_test, df_train, j_threshold)\\n    i += 1\\nsamples_found = (df_test[\\\"jaccard\\\"] >= j_threshold).sum()\\nprint(i, \\\"rounds,\\\", samples_found, \\\"samples,\\\", samples_found - (df_test[\\\"jaccard\\\"] >= 0.9999).sum(), \\\"thereof < 1\\\")\\n\\n\\nax = sns.histplot(data=df_test[\\\"jaccard\\\"])\\n_ = ax.set_title(\\\"True jaccard similarities of the test pairs\\\")\";\n",
       "                var nbb_formatted_code = \"%%time\\nimport lshexp.metrics\\n\\n\\ndef add_train_samples_with_jaccard(df, train: pd.DataFrame, threshold):\\n    zeroes = df[\\\"jaccard\\\"] < threshold\\n    samples = train.sample(sum(zeroes), replace=True)\\n    samples = samples.assign(index_y=list(samples.index)).set_index(\\n        zeroes.loc[zeroes].index.values\\n    )\\n    df[\\\"documents_y\\\"].loc[zeroes] = samples[\\\"documents\\\"]\\n    df[\\\"shingles_y\\\"].loc[zeroes] = samples[\\\"shingles\\\"]\\n    df[\\\"index_y\\\"].loc[zeroes] = samples[\\\"index_y\\\"]\\n    df[\\\"jaccard\\\"].loc[zeroes] = (\\n        df[[\\\"shingles\\\", \\\"shingles_y\\\"]]\\n        .loc[zeroes]\\n        .apply(lambda row: lshexp.metrics.jaccard_similarity(*row), axis=1, raw=True)\\n    )\\n\\n# df_test = df_test.merge(\\n#     df_train.sample(len(df_test), replace=True).set_index(df_test.index.values),\\n#     left_index=True,\\n#     right_index=True,\\n#     suffixes=[\\\"\\\", \\\"_y\\\"],\\n# )\\ndf_test = df_test.assign(documents_y=None, shingles_y=None, index_y=0, jaccard=0.0)\\n# df_test[\\\"jaccard\\\"] = df_test[[\\\"shingles\\\", \\\"shingles_y\\\"]].apply(\\n#     lambda row: lshexp.metrics.jaccard_similarity(*row), axis=1, raw=True\\n# )\\ni = 0\\nwhile (df_test[\\\"jaccard\\\"] < j_threshold).sum() > 0.1 * len(df_test) and i < 20:\\n    add_train_samples_with_jaccard(df_test, df_train, j_threshold)\\n    i += 1\\nsamples_found = (df_test[\\\"jaccard\\\"] >= j_threshold).sum()\\nprint(i, \\\"rounds,\\\", samples_found, \\\"samples,\\\", samples_found - (df_test[\\\"jaccard\\\"] >= 0.9999).sum(), \\\"thereof < 1\\\")\\n\\n\\nax = sns.histplot(data=df_test[\\\"jaccard\\\"])\\n_ = ax.set_title(\\\"True jaccard similarities of the test pairs\\\")\";\n",
       "                var nbb_cells = Jupyter.notebook.get_cells();\n",
       "                for (var i = 0; i < nbb_cells.length; ++i) {\n",
       "                    if (nbb_cells[i].input_prompt_number == nbb_cell_id) {\n",
       "                        if (nbb_cells[i].get_text() == nbb_unformatted_code) {\n",
       "                             nbb_cells[i].set_text(nbb_formatted_code);\n",
       "                        }\n",
       "                        break;\n",
       "                    }\n",
       "                }\n",
       "            }, 500);\n",
       "            "
      ],
      "text/plain": [
       "<IPython.core.display.Javascript object>"
      ]
     },
     "metadata": {},
     "output_type": "display_data"
    }
   ],
   "source": [
    "%%time\n",
    "import lshexp.metrics\n",
    "\n",
    "\n",
    "def add_train_samples_with_jaccard(df, train: pd.DataFrame, threshold):\n",
    "    zeroes = df[\"jaccard\"] < threshold\n",
    "    samples = train.sample(sum(zeroes), replace=True)\n",
    "    samples = samples.assign(index_y=list(samples.index)).set_index(\n",
    "        zeroes.loc[zeroes].index.values\n",
    "    )\n",
    "    df[\"documents_y\"].loc[zeroes] = samples[\"documents\"]\n",
    "    df[\"shingles_y\"].loc[zeroes] = samples[\"shingles\"]\n",
    "    df[\"index_y\"].loc[zeroes] = samples[\"index_y\"]\n",
    "    df[\"jaccard\"].loc[zeroes] = (\n",
    "        df[[\"shingles\", \"shingles_y\"]]\n",
    "        .loc[zeroes]\n",
    "        .apply(lambda row: lshexp.metrics.jaccard_similarity(*row), axis=1, raw=True)\n",
    "    )\n",
    "\n",
    "# df_test = df_test.merge(\n",
    "#     df_train.sample(len(df_test), replace=True).set_index(df_test.index.values),\n",
    "#     left_index=True,\n",
    "#     right_index=True,\n",
    "#     suffixes=[\"\", \"_y\"],\n",
    "# )\n",
    "df_test = df_test.assign(documents_y=None, shingles_y=None, index_y=0, jaccard=0.0)\n",
    "# df_test[\"jaccard\"] = df_test[[\"shingles\", \"shingles_y\"]].apply(\n",
    "#     lambda row: lshexp.metrics.jaccard_similarity(*row), axis=1, raw=True\n",
    "# )\n",
    "i = 0\n",
    "while (df_test[\"jaccard\"] < j_threshold).sum() > 0.1 * len(df_test) and i < 20:\n",
    "    add_train_samples_with_jaccard(df_test, df_train, j_threshold)\n",
    "    i += 1\n",
    "samples_found = (df_test[\"jaccard\"] >= j_threshold).sum()\n",
    "print(i, \"rounds,\", samples_found, \"samples,\", samples_found - (df_test[\"jaccard\"] >= 0.9999).sum(), \"thereof < 1\")\n",
    "\n",
    "\n",
    "ax = sns.histplot(data=df_test[\"jaccard\"])\n",
    "_ = ax.set_title(\"True jaccard similarities of the test pairs\")"
   ]
  },
  {
   "cell_type": "code",
   "execution_count": 68,
   "metadata": {},
   "outputs": [
    {
     "name": "stdout",
     "output_type": "stream",
     "text": [
      "CPU times: user 38.9 ms, sys: 6 µs, total: 38.9 ms\n",
      "Wall time: 36.4 ms\n"
     ]
    },
    {
     "data": {
      "text/plain": [
       "{'lsh_datasketch_default': 1.0,\n",
       " 'lsh_datasketch_murmur': 1.0,\n",
       " 'lsh_lshexp': 1.0}"
      ]
     },
     "execution_count": 68,
     "metadata": {},
     "output_type": "execute_result"
    },
    {
     "data": {
      "application/javascript": [
       "\n",
       "            setTimeout(function() {\n",
       "                var nbb_cell_id = 68;\n",
       "                var nbb_unformatted_code = \"%%time\\ndef calculate_recall(df, lsh_query_fn):\\n    return (\\n        df.assign(candidates=df[\\\"shingles\\\"].apply(lsh_query_fn))[\\n            [\\\"index_y\\\", \\\"candidates\\\"]\\n        ]\\n        .apply(\\n            lambda row: str(row[0]) in set(str(c) for c in row[1]),\\n            raw=True,\\n            axis=1,\\n        )\\n        .mean()\\n    )\\n\\n\\ndf_recall_test = df_test.loc[df_test[\\\"jaccard\\\"] >= j_threshold]\\n\\nrecall = {\\n    name: calculate_recall(df_recall_test, query_fn)\\n    for name, query_fn in [\\n        (\\n            \\\"lsh_datasketch_default\\\",\\n            lambda s: lsh_datasketch_default.query(datasketch_minhash(s)),\\n        ),\\n        (\\n            \\\"lsh_datasketch_murmur\\\",\\n            lambda s: lsh_datasketch_murmur.query(datasketch_minhash(s)),\\n        ),\\n        (\\\"lsh_lshexp\\\", lambda s: lsh_lshexp.query(lsh_lshexp_minhash(s))),\\n    ]\\n}\\nrecall\";\n",
       "                var nbb_formatted_code = \"%%time\\ndef calculate_recall(df, lsh_query_fn):\\n    return (\\n        df.assign(candidates=df[\\\"shingles\\\"].apply(lsh_query_fn))[\\n            [\\\"index_y\\\", \\\"candidates\\\"]\\n        ]\\n        .apply(\\n            lambda row: str(row[0]) in set(str(c) for c in row[1]),\\n            raw=True,\\n            axis=1,\\n        )\\n        .mean()\\n    )\\n\\n\\ndf_recall_test = df_test.loc[df_test[\\\"jaccard\\\"] >= j_threshold]\\n\\nrecall = {\\n    name: calculate_recall(df_recall_test, query_fn)\\n    for name, query_fn in [\\n        (\\n            \\\"lsh_datasketch_default\\\",\\n            lambda s: lsh_datasketch_default.query(datasketch_minhash(s)),\\n        ),\\n        (\\n            \\\"lsh_datasketch_murmur\\\",\\n            lambda s: lsh_datasketch_murmur.query(datasketch_minhash(s)),\\n        ),\\n        (\\\"lsh_lshexp\\\", lambda s: lsh_lshexp.query(lsh_lshexp_minhash(s))),\\n    ]\\n}\\nrecall\";\n",
       "                var nbb_cells = Jupyter.notebook.get_cells();\n",
       "                for (var i = 0; i < nbb_cells.length; ++i) {\n",
       "                    if (nbb_cells[i].input_prompt_number == nbb_cell_id) {\n",
       "                        if (nbb_cells[i].get_text() == nbb_unformatted_code) {\n",
       "                             nbb_cells[i].set_text(nbb_formatted_code);\n",
       "                        }\n",
       "                        break;\n",
       "                    }\n",
       "                }\n",
       "            }, 500);\n",
       "            "
      ],
      "text/plain": [
       "<IPython.core.display.Javascript object>"
      ]
     },
     "metadata": {},
     "output_type": "display_data"
    }
   ],
   "source": [
    "%%time\n",
    "def calculate_recall(df, lsh_query_fn):\n",
    "    return (\n",
    "        df.assign(candidates=df[\"shingles\"].apply(lsh_query_fn))[\n",
    "            [\"index_y\", \"candidates\"]\n",
    "        ]\n",
    "        .apply(\n",
    "            lambda row: str(row[0]) in set(str(c) for c in row[1]),\n",
    "            raw=True,\n",
    "            axis=1,\n",
    "        )\n",
    "        .mean()\n",
    "    )\n",
    "\n",
    "\n",
    "df_recall_test = df_test.loc[df_test[\"jaccard\"] >= j_threshold]\n",
    "\n",
    "recall = {\n",
    "    name: calculate_recall(df_recall_test, query_fn)\n",
    "    for name, query_fn in [\n",
    "        (\n",
    "            \"lsh_datasketch_default\",\n",
    "            lambda s: lsh_datasketch_default.query(datasketch_minhash(s)),\n",
    "        ),\n",
    "        (\n",
    "            \"lsh_datasketch_murmur\",\n",
    "            lambda s: lsh_datasketch_murmur.query(datasketch_minhash(s)),\n",
    "        ),\n",
    "        (\"lsh_lshexp\", lambda s: lsh_lshexp.query(lsh_lshexp_minhash(s))),\n",
    "    ]\n",
    "}\n",
    "recall"
   ]
  },
  {
   "cell_type": "markdown",
   "metadata": {},
   "source": []
  },
  {
   "cell_type": "markdown",
   "metadata": {},
   "source": []
  },
  {
   "cell_type": "markdown",
   "metadata": {},
   "source": []
  },
  {
   "cell_type": "markdown",
   "metadata": {},
   "source": []
  },
  {
   "cell_type": "code",
   "execution_count": null,
   "metadata": {},
   "outputs": [],
   "source": [
    "\n",
    "#%%\n",
    "\n",
    "def jaccard_similarity(s1: Set, s2: Set):\n",
    "    return len(s1.intersection(s2)) / len(s1.union(s2))\n",
    "\n",
    "def count_equal(l1: List, l2: List):\n",
    "    return sum(a == b for a, b in zip(l1, l2))\n",
    "\n",
    "#%% md\n",
    "\n",
    "## Create shingles of example documents\n",
    "\n",
    "#%%\n",
    "\n",
    "documents = [\n",
    "    \"Fritz-Haber-Weg 15\",\n",
    "    \"Fritz-Haber-Straße 15\",\n",
    "    \"Fritz-Haber-Str. 15\",\n",
    "    \"Pützchenweg 23\",\n",
    "]\n",
    "for d in documents:\n",
    "    print(sorted(shingles(d)))\n",
    "\n",
    "document_shingles = [shingles(d) for d in documents]\n",
    "for d1 in document_shingles:\n",
    "    similarities = [jaccard_similarity(d1, d2) for d2 in document_shingles]\n",
    "    print(similarities)\n",
    "\n",
    "all_shingles = list(set.union(*document_shingles))\n",
    "\n",
    "#%% md\n",
    "\n",
    "## Approach 3.3.2: Min index of all_shingles permutation\n",
    "\n",
    "#%%\n",
    "\n",
    "n_permutations = 50\n",
    "minhashes = []  # [0 for _ in range(len(document_shingles))]\n",
    "for d in document_shingles:\n",
    "    doc_minhash = []\n",
    "    for p in set_permutations(all_shingles, n_permutations):\n",
    "        for i, shingle in enumerate(p):\n",
    "            if shingle in d:\n",
    "                doc_minhash.append(i)\n",
    "                break\n",
    "    minhashes.append(doc_minhash)\n",
    "\n",
    "#%%\n",
    "\n",
    "for i, (mh1, sh1) in enumerate(zip(minhashes, document_shingles)):\n",
    "    for j, (mh2, sh2) in enumerate(zip(minhashes, document_shingles)):\n",
    "        print(f\"{i} => {j} Real jaccard: {jaccard_similarity(sh1, sh2):.2f} Estimated: {count_equal(mh1, mh2) / len(mh1):.2f}\")\n",
    "\n",
    "#%% md\n",
    "\n",
    "## Approach 3.3.4 Minhash\n",
    "\n",
    "#%%\n",
    "\n",
    "import hashlib\n",
    "import struct\n",
    "\n",
    "def hash32(data):\n",
    "    \"\"\"A 32-bit hash function based on SHA1.\"\"\"\n",
    "    return struct.unpack('<I', hashlib.sha1(data).digest()[:4])[0]\n",
    "\n",
    "#%%\n",
    "\n",
    "_mersenne_prime = np.uint64((1 << 61) - 1)\n",
    "n_hashes = 100\n",
    "random.seed(42)\n",
    "params = [(random.randint(0, _mersenne_prime), random.randint(0, _mersenne_prime)) for _ in range(n_hashes)]\n",
    "# print(params)\n",
    "\n",
    "def calc_minhashes(shingles: List[str]) -> np.array:\n",
    "    hashes = np.array([hash32(s.encode(\"utf-8\")) for s in shingles])\n",
    "    hashes = np.array([\n",
    "        (a*hashes + b) % _mersenne_prime for a, b in params\n",
    "    ])\n",
    "    minhashes = np.min(hashes, axis=1)\n",
    "    return minhashes\n",
    "\n",
    "#%%\n",
    "\n",
    "minhashes = [calc_minhashes(ds) for ds in document_shingles]\n",
    "\n",
    "for i, (mh1, sh1) in enumerate(zip(minhashes, document_shingles)):\n",
    "    for j, (mh2, sh2) in enumerate(zip(minhashes, document_shingles)):\n",
    "        print(f\"{i} => {j} Real jaccard: {jaccard_similarity(sh1, sh2):.2f} Estimated: {count_equal(mh1, mh2) / len(mh1):.2f}\")\n",
    "\n",
    "#%% md\n",
    "\n",
    "## LSH\n",
    "\n",
    "#%%\n",
    "\n",
    "j_threshold = 0.6\n",
    "\n",
    "\n",
    "\n",
    "minhashes = [calc_minhashes(ds) for ds in document_shingles]\n",
    "lsh = LSH(n_hashes=len(minhashes[0]))\n",
    "\n",
    "for minh, doc in zip(minhashes, documents):\n",
    "    lsh.insert(minh, doc)\n",
    "\n",
    "for i, d in enumerate(documents):\n",
    "    print(d, lsh.query(minhashes[i]))\n",
    "\n",
    "\n",
    "#%%\n",
    "from pympler.asizeof import asizeof\n",
    "asizeof(lsh.bands)\n",
    "\n",
    "#%%\n",
    "b = LSH._hash(np.array([1,2,4]))\n",
    "print(b)\n",
    "np.array(struct.unpack(3*\"I\", b)).byteswap()\n",
    "\n",
    "#%% md\n",
    "\n",
    "## stuff from the book\n",
    "\n",
    "#%%\n",
    "\n",
    "h1 = np.array([1,2,3,4,0])\n",
    "h2 = np.array([1,4,2,0,3])\n",
    "S = [\n",
    "    np.array([1,0,0,1,0]),\n",
    "    np.array([0,0,1,0,0]),\n",
    "    np.array([0,1,0,1,1]),\n",
    "    np.array([1,0,1,1,0])\n",
    "]\n",
    "\n",
    "S[0], h1\n",
    "\n",
    "\n",
    "#%%\n",
    "\n",
    "minhashes = []\n",
    "for h in (h1, h2):\n",
    "    minhashes.append([np.min(np.where(s, h, np.inf)) for s in S])\n",
    "minhashes = np.array(minhashes).T\n",
    "minhashes\n",
    "\n",
    "#%%\n",
    "\n",
    "for i, s1 in enumerate(S):\n",
    "    for j, s2 in enumerate(S):\n",
    "        jaccard = np.sum(s1 & s2) / np.sum(s1 | s2)\n",
    "        estimated_jaccard = sum(np.equal(minhashes[i], minhashes[j])) / len(minhashes[0])\n",
    "        print(f\"{i} => {j} Real jaccard: {jaccard:.2f} Estimated: {estimated_jaccard:.2f}\")\n",
    "\n",
    "#%%\n",
    "\n",
    "\n",
    "\n",
    "#%%\n",
    "\n",
    "\n"
   ]
  }
 ],
 "metadata": {
  "kernelspec": {
   "display_name": "Python 3 (ipykernel)",
   "language": "python",
   "name": "python3"
  },
  "language_info": {
   "codemirror_mode": {
    "name": "ipython",
    "version": 3
   },
   "file_extension": ".py",
   "mimetype": "text/x-python",
   "name": "python",
   "nbconvert_exporter": "python",
   "pygments_lexer": "ipython3",
   "version": "3.9.7"
  }
 },
 "nbformat": 4,
 "nbformat_minor": 2
}
