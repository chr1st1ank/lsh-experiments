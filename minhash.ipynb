{
 "cells": [
  {
   "cell_type": "code",
   "execution_count": 1,
   "metadata": {},
   "outputs": [
    {
     "data": {
      "application/javascript": [
       "\n",
       "            setTimeout(function() {\n",
       "                var nbb_cell_id = 1;\n",
       "                var nbb_unformatted_code = \"%load_ext autoreload\\n%load_ext nb_black\\n%autoreload 2\";\n",
       "                var nbb_formatted_code = \"%load_ext autoreload\\n%load_ext nb_black\\n%autoreload 2\";\n",
       "                var nbb_cells = Jupyter.notebook.get_cells();\n",
       "                for (var i = 0; i < nbb_cells.length; ++i) {\n",
       "                    if (nbb_cells[i].input_prompt_number == nbb_cell_id) {\n",
       "                        if (nbb_cells[i].get_text() == nbb_unformatted_code) {\n",
       "                             nbb_cells[i].set_text(nbb_formatted_code);\n",
       "                        }\n",
       "                        break;\n",
       "                    }\n",
       "                }\n",
       "            }, 500);\n",
       "            "
      ],
      "text/plain": [
       "<IPython.core.display.Javascript object>"
      ]
     },
     "metadata": {},
     "output_type": "display_data"
    }
   ],
   "source": [
    "%load_ext autoreload\n",
    "%load_ext nb_black\n",
    "%autoreload 2"
   ]
  },
  {
   "cell_type": "code",
   "execution_count": 2,
   "metadata": {},
   "outputs": [
    {
     "data": {
      "application/javascript": [
       "\n",
       "            setTimeout(function() {\n",
       "                var nbb_cell_id = 2;\n",
       "                var nbb_unformatted_code = \"from typing import Set, List, Iterable\\nimport collections\\nimport itertools\\nfrom numpy.random import default_rng\\nimport numpy as np\\nimport random\\nimport sys\\nfrom pathlib import Path\\nimport re\\nimport pandas as pd\\nfrom pympler.asizeof import asizeof\\nfrom humanize.filesize import naturalsize\\nimport seaborn as sns\\n\\n%matplotlib inline\";\n",
       "                var nbb_formatted_code = \"from typing import Set, List, Iterable\\nimport collections\\nimport itertools\\nfrom numpy.random import default_rng\\nimport numpy as np\\nimport random\\nimport sys\\nfrom pathlib import Path\\nimport re\\nimport pandas as pd\\nfrom pympler.asizeof import asizeof\\nfrom humanize.filesize import naturalsize\\nimport seaborn as sns\\n\\n%matplotlib inline\";\n",
       "                var nbb_cells = Jupyter.notebook.get_cells();\n",
       "                for (var i = 0; i < nbb_cells.length; ++i) {\n",
       "                    if (nbb_cells[i].input_prompt_number == nbb_cell_id) {\n",
       "                        if (nbb_cells[i].get_text() == nbb_unformatted_code) {\n",
       "                             nbb_cells[i].set_text(nbb_formatted_code);\n",
       "                        }\n",
       "                        break;\n",
       "                    }\n",
       "                }\n",
       "            }, 500);\n",
       "            "
      ],
      "text/plain": [
       "<IPython.core.display.Javascript object>"
      ]
     },
     "metadata": {},
     "output_type": "display_data"
    }
   ],
   "source": [
    "from typing import Set, List, Iterable\n",
    "import collections\n",
    "import itertools\n",
    "from numpy.random import default_rng\n",
    "import numpy as np\n",
    "import random\n",
    "import sys\n",
    "from pathlib import Path\n",
    "import re\n",
    "import pandas as pd\n",
    "from pympler.asizeof import asizeof\n",
    "from humanize.filesize import naturalsize\n",
    "import seaborn as sns\n",
    "\n",
    "%matplotlib inline"
   ]
  },
  {
   "cell_type": "code",
   "execution_count": 3,
   "metadata": {},
   "outputs": [
    {
     "data": {
      "application/javascript": [
       "\n",
       "            setTimeout(function() {\n",
       "                var nbb_cell_id = 3;\n",
       "                var nbb_unformatted_code = \"import lshexp.minhash as mh\\nfrom lshexp import shingle\";\n",
       "                var nbb_formatted_code = \"import lshexp.minhash as mh\\nfrom lshexp import shingle\";\n",
       "                var nbb_cells = Jupyter.notebook.get_cells();\n",
       "                for (var i = 0; i < nbb_cells.length; ++i) {\n",
       "                    if (nbb_cells[i].input_prompt_number == nbb_cell_id) {\n",
       "                        if (nbb_cells[i].get_text() == nbb_unformatted_code) {\n",
       "                             nbb_cells[i].set_text(nbb_formatted_code);\n",
       "                        }\n",
       "                        break;\n",
       "                    }\n",
       "                }\n",
       "            }, 500);\n",
       "            "
      ],
      "text/plain": [
       "<IPython.core.display.Javascript object>"
      ]
     },
     "metadata": {},
     "output_type": "display_data"
    }
   ],
   "source": [
    "import lshexp.minhash as mh\n",
    "from lshexp import shingle"
   ]
  },
  {
   "cell_type": "code",
   "execution_count": 4,
   "metadata": {},
   "outputs": [
    {
     "data": {
      "application/javascript": [
       "\n",
       "            setTimeout(function() {\n",
       "                var nbb_cell_id = 4;\n",
       "                var nbb_unformatted_code = \"def words_of_wiki_articles(pattern):\\n    words = set()\\n    split_reg = re.compile(\\\"\\\\W\\\")\\n    for p in Path(\\\"./data/wikipediaArticles\\\").glob(pattern):\\n        with p.open(\\\"r\\\") as f:\\n            for l in f.readlines():\\n                l = l.strip()\\n                if l and not l.lstrip().startswith(\\\"#\\\"):\\n                    words = words.union(\\n                        l.strip().lower() for l in split_reg.split(l) if l.strip()\\n                    )\\n    return words\";\n",
       "                var nbb_formatted_code = \"def words_of_wiki_articles(pattern):\\n    words = set()\\n    split_reg = re.compile(\\\"\\\\W\\\")\\n    for p in Path(\\\"./data/wikipediaArticles\\\").glob(pattern):\\n        with p.open(\\\"r\\\") as f:\\n            for l in f.readlines():\\n                l = l.strip()\\n                if l and not l.lstrip().startswith(\\\"#\\\"):\\n                    words = words.union(\\n                        l.strip().lower() for l in split_reg.split(l) if l.strip()\\n                    )\\n    return words\";\n",
       "                var nbb_cells = Jupyter.notebook.get_cells();\n",
       "                for (var i = 0; i < nbb_cells.length; ++i) {\n",
       "                    if (nbb_cells[i].input_prompt_number == nbb_cell_id) {\n",
       "                        if (nbb_cells[i].get_text() == nbb_unformatted_code) {\n",
       "                             nbb_cells[i].set_text(nbb_formatted_code);\n",
       "                        }\n",
       "                        break;\n",
       "                    }\n",
       "                }\n",
       "            }, 500);\n",
       "            "
      ],
      "text/plain": [
       "<IPython.core.display.Javascript object>"
      ]
     },
     "metadata": {},
     "output_type": "display_data"
    }
   ],
   "source": [
    "def words_of_wiki_articles(pattern):\n",
    "    words = set()\n",
    "    split_reg = re.compile(\"\\W\")\n",
    "    for p in Path(\"./data/wikipediaArticles\").glob(pattern):\n",
    "        with p.open(\"r\") as f:\n",
    "            for l in f.readlines():\n",
    "                l = l.strip()\n",
    "                if l and not l.lstrip().startswith(\"#\"):\n",
    "                    words = words.union(\n",
    "                        l.strip().lower() for l in split_reg.split(l) if l.strip()\n",
    "                    )\n",
    "    return words"
   ]
  },
  {
   "cell_type": "code",
   "execution_count": 5,
   "metadata": {},
   "outputs": [
    {
     "data": {
      "text/plain": [
       "(10892, ['fuse', 'hvit', 'ballistically', '1282'])"
      ]
     },
     "execution_count": 5,
     "metadata": {},
     "output_type": "execute_result"
    },
    {
     "data": {
      "application/javascript": [
       "\n",
       "            setTimeout(function() {\n",
       "                var nbb_cell_id = 5;\n",
       "                var nbb_unformatted_code = \"words = list(words_of_wiki_articles(\\\"en*.txt\\\"))\\nlen(words), words[:4]\";\n",
       "                var nbb_formatted_code = \"words = list(words_of_wiki_articles(\\\"en*.txt\\\"))\\nlen(words), words[:4]\";\n",
       "                var nbb_cells = Jupyter.notebook.get_cells();\n",
       "                for (var i = 0; i < nbb_cells.length; ++i) {\n",
       "                    if (nbb_cells[i].input_prompt_number == nbb_cell_id) {\n",
       "                        if (nbb_cells[i].get_text() == nbb_unformatted_code) {\n",
       "                             nbb_cells[i].set_text(nbb_formatted_code);\n",
       "                        }\n",
       "                        break;\n",
       "                    }\n",
       "                }\n",
       "            }, 500);\n",
       "            "
      ],
      "text/plain": [
       "<IPython.core.display.Javascript object>"
      ]
     },
     "metadata": {},
     "output_type": "display_data"
    }
   ],
   "source": [
    "words = list(words_of_wiki_articles(\"en*.txt\"))\n",
    "len(words), words[:4]"
   ]
  },
  {
   "cell_type": "code",
   "execution_count": 6,
   "metadata": {},
   "outputs": [
    {
     "data": {
      "text/plain": [
       "(40000,\n",
       " '3.9 MB',\n",
       " ['בן exclusion embark detonate assumption',\n",
       "  'halides midori ouroboros hippos function election',\n",
       "  'software esports rann walsingham quay spells newmarket',\n",
       "  'road lords thinks enolates medium seoncheon russia hallett',\n",
       "  'juives'])"
      ]
     },
     "execution_count": 6,
     "metadata": {},
     "output_type": "execute_result"
    },
    {
     "data": {
      "application/javascript": [
       "\n",
       "            setTimeout(function() {\n",
       "                var nbb_cell_id = 6;\n",
       "                var nbb_unformatted_code = \"random.seed(42)\\ndocuments = [\\n    \\\" \\\".join(random.choices(words, k=n_words))\\n    for _ in range(5000)\\n    for n_words in range(1, 9)\\n]\\nlen(documents), naturalsize(asizeof(documents)), documents[20:25]\";\n",
       "                var nbb_formatted_code = \"random.seed(42)\\ndocuments = [\\n    \\\" \\\".join(random.choices(words, k=n_words))\\n    for _ in range(5000)\\n    for n_words in range(1, 9)\\n]\\nlen(documents), naturalsize(asizeof(documents)), documents[20:25]\";\n",
       "                var nbb_cells = Jupyter.notebook.get_cells();\n",
       "                for (var i = 0; i < nbb_cells.length; ++i) {\n",
       "                    if (nbb_cells[i].input_prompt_number == nbb_cell_id) {\n",
       "                        if (nbb_cells[i].get_text() == nbb_unformatted_code) {\n",
       "                             nbb_cells[i].set_text(nbb_formatted_code);\n",
       "                        }\n",
       "                        break;\n",
       "                    }\n",
       "                }\n",
       "            }, 500);\n",
       "            "
      ],
      "text/plain": [
       "<IPython.core.display.Javascript object>"
      ]
     },
     "metadata": {},
     "output_type": "display_data"
    }
   ],
   "source": [
    "random.seed(42)\n",
    "documents = [\n",
    "    \" \".join(random.choices(words, k=n_words))\n",
    "    for _ in range(5000)\n",
    "    for n_words in range(1, 9)\n",
    "]\n",
    "len(documents), naturalsize(asizeof(documents)), documents[20:25]"
   ]
  },
  {
   "cell_type": "code",
   "execution_count": 7,
   "metadata": {},
   "outputs": [
    {
     "name": "stdout",
     "output_type": "stream",
     "text": [
      "CPU times: user 379 ms, sys: 52.8 ms, total: 432 ms\n",
      "Wall time: 433 ms\n"
     ]
    },
    {
     "data": {
      "text/plain": [
       "(40000,\n",
       " [{'$$$$b', '$$$bm', '$$bmg', '$bmg$', 'bmg$$', 'g$$$$', 'mg$$$'},\n",
       "  {' minu',\n",
       "   '$$$$s',\n",
       "   '$$$se',\n",
       "   '$$see',\n",
       "   '$seek',\n",
       "   'e$$$$',\n",
       "   'eeks ',\n",
       "   'eks m',\n",
       "   'inute',\n",
       "   'ks mi',\n",
       "   'minut',\n",
       "   'nute$',\n",
       "   's min',\n",
       "   'seeks',\n",
       "   'te$$$',\n",
       "   'ute$$'}])"
      ]
     },
     "execution_count": 7,
     "metadata": {},
     "output_type": "execute_result"
    },
    {
     "data": {
      "application/javascript": [
       "\n",
       "            setTimeout(function() {\n",
       "                var nbb_cell_id = 7;\n",
       "                var nbb_unformatted_code = \"%%time\\n\\nfrom lshexp import shingle\\n\\nshingles = [shingle.all_ngrams(s, 5) for s in documents]\\nlen(shingles), shingles[:2]\";\n",
       "                var nbb_formatted_code = \"%%time\\n\\nfrom lshexp import shingle\\n\\nshingles = [shingle.all_ngrams(s, 5) for s in documents]\\nlen(shingles), shingles[:2]\";\n",
       "                var nbb_cells = Jupyter.notebook.get_cells();\n",
       "                for (var i = 0; i < nbb_cells.length; ++i) {\n",
       "                    if (nbb_cells[i].input_prompt_number == nbb_cell_id) {\n",
       "                        if (nbb_cells[i].get_text() == nbb_unformatted_code) {\n",
       "                             nbb_cells[i].set_text(nbb_formatted_code);\n",
       "                        }\n",
       "                        break;\n",
       "                    }\n",
       "                }\n",
       "            }, 500);\n",
       "            "
      ],
      "text/plain": [
       "<IPython.core.display.Javascript object>"
      ]
     },
     "metadata": {},
     "output_type": "display_data"
    }
   ],
   "source": [
    "%%time\n",
    "\n",
    "from lshexp import shingle\n",
    "\n",
    "shingles = [shingle.all_ngrams(s, 5) for s in documents]\n",
    "len(shingles), shingles[:2]"
   ]
  },
  {
   "cell_type": "code",
   "execution_count": 8,
   "metadata": {},
   "outputs": [
    {
     "data": {
      "application/javascript": [
       "\n",
       "            setTimeout(function() {\n",
       "                var nbb_cell_id = 8;\n",
       "                var nbb_unformatted_code = \"train = shingles[:15000]\";\n",
       "                var nbb_formatted_code = \"train = shingles[:15000]\";\n",
       "                var nbb_cells = Jupyter.notebook.get_cells();\n",
       "                for (var i = 0; i < nbb_cells.length; ++i) {\n",
       "                    if (nbb_cells[i].input_prompt_number == nbb_cell_id) {\n",
       "                        if (nbb_cells[i].get_text() == nbb_unformatted_code) {\n",
       "                             nbb_cells[i].set_text(nbb_formatted_code);\n",
       "                        }\n",
       "                        break;\n",
       "                    }\n",
       "                }\n",
       "            }, 500);\n",
       "            "
      ],
      "text/plain": [
       "<IPython.core.display.Javascript object>"
      ]
     },
     "metadata": {},
     "output_type": "display_data"
    }
   ],
   "source": [
    "train = shingles[:15000]"
   ]
  },
  {
   "cell_type": "code",
   "execution_count": 9,
   "metadata": {},
   "outputs": [
    {
     "data": {
      "application/javascript": [
       "\n",
       "            setTimeout(function() {\n",
       "                var nbb_cell_id = 9;\n",
       "                var nbb_unformatted_code = \"from datasketch import MinHashLSH, MinHash\\nimport murmurhash.mrmr\";\n",
       "                var nbb_formatted_code = \"from datasketch import MinHashLSH, MinHash\\nimport murmurhash.mrmr\";\n",
       "                var nbb_cells = Jupyter.notebook.get_cells();\n",
       "                for (var i = 0; i < nbb_cells.length; ++i) {\n",
       "                    if (nbb_cells[i].input_prompt_number == nbb_cell_id) {\n",
       "                        if (nbb_cells[i].get_text() == nbb_unformatted_code) {\n",
       "                             nbb_cells[i].set_text(nbb_formatted_code);\n",
       "                        }\n",
       "                        break;\n",
       "                    }\n",
       "                }\n",
       "            }, 500);\n",
       "            "
      ],
      "text/plain": [
       "<IPython.core.display.Javascript object>"
      ]
     },
     "metadata": {},
     "output_type": "display_data"
    }
   ],
   "source": [
    "from datasketch import MinHashLSH, MinHash\n",
    "import murmurhash.mrmr"
   ]
  },
  {
   "cell_type": "markdown",
   "metadata": {},
   "source": [
    "## Default datasketch LSH"
   ]
  },
  {
   "cell_type": "code",
   "execution_count": 75,
   "metadata": {},
   "outputs": [
    {
     "data": {
      "application/javascript": [
       "\n",
       "            setTimeout(function() {\n",
       "                var nbb_cell_id = 75;\n",
       "                var nbb_unformatted_code = \"j_threshold = 0.6\";\n",
       "                var nbb_formatted_code = \"j_threshold = 0.6\";\n",
       "                var nbb_cells = Jupyter.notebook.get_cells();\n",
       "                for (var i = 0; i < nbb_cells.length; ++i) {\n",
       "                    if (nbb_cells[i].input_prompt_number == nbb_cell_id) {\n",
       "                        if (nbb_cells[i].get_text() == nbb_unformatted_code) {\n",
       "                             nbb_cells[i].set_text(nbb_formatted_code);\n",
       "                        }\n",
       "                        break;\n",
       "                    }\n",
       "                }\n",
       "            }, 500);\n",
       "            "
      ],
      "text/plain": [
       "<IPython.core.display.Javascript object>"
      ]
     },
     "metadata": {},
     "output_type": "display_data"
    }
   ],
   "source": [
    "j_threshold = 0.6"
   ]
  },
  {
   "cell_type": "code",
   "execution_count": 76,
   "metadata": {},
   "outputs": [
    {
     "name": "stdout",
     "output_type": "stream",
     "text": [
      "CPU times: user 20 s, sys: 171 ms, total: 20.2 s\n",
      "Wall time: 20.3 s\n"
     ]
    },
    {
     "data": {
      "text/plain": [
       "'98.6 MB'"
      ]
     },
     "execution_count": 76,
     "metadata": {},
     "output_type": "execute_result"
    },
    {
     "data": {
      "application/javascript": [
       "\n",
       "            setTimeout(function() {\n",
       "                var nbb_cell_id = 76;\n",
       "                var nbb_unformatted_code = \"%%time\\nn_hashes = 128\\n\\ndef datasketch_minhash(shingles: List[str]):\\n    m = MinHash(n_hashes)\\n    m.update_batch([s.encode(\\\"utf8\\\") for s in shingles])\\n    return m\\n\\nlsh_datasketch_default = MinHashLSH(threshold=j_threshold, num_perm=n_hashes)\\nfor i, row_shingles in enumerate(train):\\n    lsh_datasketch_default.insert(i, datasketch_minhash(row_shingles))\\n    \\nnaturalsize(asizeof(lsh_datasketch_default))\";\n",
       "                var nbb_formatted_code = \"%%time\\nn_hashes = 128\\n\\ndef datasketch_minhash(shingles: List[str]):\\n    m = MinHash(n_hashes)\\n    m.update_batch([s.encode(\\\"utf8\\\") for s in shingles])\\n    return m\\n\\nlsh_datasketch_default = MinHashLSH(threshold=j_threshold, num_perm=n_hashes)\\nfor i, row_shingles in enumerate(train):\\n    lsh_datasketch_default.insert(i, datasketch_minhash(row_shingles))\\n    \\nnaturalsize(asizeof(lsh_datasketch_default))\";\n",
       "                var nbb_cells = Jupyter.notebook.get_cells();\n",
       "                for (var i = 0; i < nbb_cells.length; ++i) {\n",
       "                    if (nbb_cells[i].input_prompt_number == nbb_cell_id) {\n",
       "                        if (nbb_cells[i].get_text() == nbb_unformatted_code) {\n",
       "                             nbb_cells[i].set_text(nbb_formatted_code);\n",
       "                        }\n",
       "                        break;\n",
       "                    }\n",
       "                }\n",
       "            }, 500);\n",
       "            "
      ],
      "text/plain": [
       "<IPython.core.display.Javascript object>"
      ]
     },
     "metadata": {},
     "output_type": "display_data"
    }
   ],
   "source": [
    "%%time\n",
    "n_hashes = 128\n",
    "\n",
    "def datasketch_minhash(shingles: List[str]):\n",
    "    m = MinHash(n_hashes)\n",
    "    m.update_batch([s.encode(\"utf8\") for s in shingles])\n",
    "    return m\n",
    "\n",
    "lsh_datasketch_default = MinHashLSH(threshold=j_threshold, num_perm=n_hashes)\n",
    "for i, row_shingles in enumerate(train):\n",
    "    lsh_datasketch_default.insert(i, datasketch_minhash(row_shingles))\n",
    "    \n",
    "naturalsize(asizeof(lsh_datasketch_default))"
   ]
  },
  {
   "cell_type": "code",
   "execution_count": 77,
   "metadata": {},
   "outputs": [
    {
     "data": {
      "text/plain": [
       "(18, 7)"
      ]
     },
     "execution_count": 77,
     "metadata": {},
     "output_type": "execute_result"
    },
    {
     "data": {
      "application/javascript": [
       "\n",
       "            setTimeout(function() {\n",
       "                var nbb_cell_id = 77;\n",
       "                var nbb_unformatted_code = \"lsh_datasketch_default.b, lsh_datasketch_default.r\";\n",
       "                var nbb_formatted_code = \"lsh_datasketch_default.b, lsh_datasketch_default.r\";\n",
       "                var nbb_cells = Jupyter.notebook.get_cells();\n",
       "                for (var i = 0; i < nbb_cells.length; ++i) {\n",
       "                    if (nbb_cells[i].input_prompt_number == nbb_cell_id) {\n",
       "                        if (nbb_cells[i].get_text() == nbb_unformatted_code) {\n",
       "                             nbb_cells[i].set_text(nbb_formatted_code);\n",
       "                        }\n",
       "                        break;\n",
       "                    }\n",
       "                }\n",
       "            }, 500);\n",
       "            "
      ],
      "text/plain": [
       "<IPython.core.display.Javascript object>"
      ]
     },
     "metadata": {},
     "output_type": "display_data"
    }
   ],
   "source": [
    "lsh_datasketch_default.b, lsh_datasketch_default.r"
   ]
  },
  {
   "cell_type": "markdown",
   "metadata": {},
   "source": [
    "## Datasketch with hash function for LSH"
   ]
  },
  {
   "cell_type": "code",
   "execution_count": 78,
   "metadata": {},
   "outputs": [
    {
     "data": {
      "application/javascript": [
       "\n",
       "            setTimeout(function() {\n",
       "                var nbb_cell_id = 78;\n",
       "                var nbb_unformatted_code = \"# %%time\\n# hashfunc=murmurhash.mrmr.hash\\n\\n# lsh_datasketch_murmur = MinHashLSH(threshold=j_threshold, num_perm=n_hashes, hashfunc=hashfunc)\\n# for i, row_shingles in enumerate(train):\\n#     lsh_datasketch_murmur.insert(i, datasketch_minhash(row_shingles))\\n\\n# naturalsize(asizeof(lsh_datasketch_murmur))\";\n",
       "                var nbb_formatted_code = \"# %%time\\n# hashfunc=murmurhash.mrmr.hash\\n\\n# lsh_datasketch_murmur = MinHashLSH(threshold=j_threshold, num_perm=n_hashes, hashfunc=hashfunc)\\n# for i, row_shingles in enumerate(train):\\n#     lsh_datasketch_murmur.insert(i, datasketch_minhash(row_shingles))\\n\\n# naturalsize(asizeof(lsh_datasketch_murmur))\";\n",
       "                var nbb_cells = Jupyter.notebook.get_cells();\n",
       "                for (var i = 0; i < nbb_cells.length; ++i) {\n",
       "                    if (nbb_cells[i].input_prompt_number == nbb_cell_id) {\n",
       "                        if (nbb_cells[i].get_text() == nbb_unformatted_code) {\n",
       "                             nbb_cells[i].set_text(nbb_formatted_code);\n",
       "                        }\n",
       "                        break;\n",
       "                    }\n",
       "                }\n",
       "            }, 500);\n",
       "            "
      ],
      "text/plain": [
       "<IPython.core.display.Javascript object>"
      ]
     },
     "metadata": {},
     "output_type": "display_data"
    }
   ],
   "source": [
    "# %%time\n",
    "# hashfunc=murmurhash.mrmr.hash\n",
    "\n",
    "# lsh_datasketch_murmur = MinHashLSH(threshold=j_threshold, num_perm=n_hashes, hashfunc=hashfunc)\n",
    "# for i, row_shingles in enumerate(train):\n",
    "#     lsh_datasketch_murmur.insert(i, datasketch_minhash(row_shingles))\n",
    "\n",
    "# naturalsize(asizeof(lsh_datasketch_murmur))"
   ]
  },
  {
   "cell_type": "code",
   "execution_count": 79,
   "metadata": {},
   "outputs": [
    {
     "data": {
      "application/javascript": [
       "\n",
       "            setTimeout(function() {\n",
       "                var nbb_cell_id = 79;\n",
       "                var nbb_unformatted_code = \"# lsh_datasketch_murmur.b, lsh_datasketch_murmur.r\";\n",
       "                var nbb_formatted_code = \"# lsh_datasketch_murmur.b, lsh_datasketch_murmur.r\";\n",
       "                var nbb_cells = Jupyter.notebook.get_cells();\n",
       "                for (var i = 0; i < nbb_cells.length; ++i) {\n",
       "                    if (nbb_cells[i].input_prompt_number == nbb_cell_id) {\n",
       "                        if (nbb_cells[i].get_text() == nbb_unformatted_code) {\n",
       "                             nbb_cells[i].set_text(nbb_formatted_code);\n",
       "                        }\n",
       "                        break;\n",
       "                    }\n",
       "                }\n",
       "            }, 500);\n",
       "            "
      ],
      "text/plain": [
       "<IPython.core.display.Javascript object>"
      ]
     },
     "metadata": {},
     "output_type": "display_data"
    }
   ],
   "source": [
    "# lsh_datasketch_murmur.b, lsh_datasketch_murmur.r"
   ]
  },
  {
   "cell_type": "markdown",
   "metadata": {},
   "source": [
    "## Own LSH"
   ]
  },
  {
   "cell_type": "code",
   "execution_count": 234,
   "metadata": {},
   "outputs": [
    {
     "data": {
      "application/javascript": [
       "\n",
       "            setTimeout(function() {\n",
       "                var nbb_cell_id = 234;\n",
       "                var nbb_unformatted_code = \"from lshexp import minhash as mh\\n\\nlsh_lshexp = mh.LSH(n_hashes=n_hashes, bands=lsh_datasketch_default.b)\\nminhash_lshexp = mh.make_minhash_generator(n_hashes=n_hashes)\\n\\n\\ndef lsh_lshexp_minhash(shingles: List[str]):\\n    return minhash_lshexp(shingles)\\n\\n\\nlsh_lshexp.n_bands, lsh_lshexp.rows_per_band\\n\\nafter = minhash_lshexp(train[0])\";\n",
       "                var nbb_formatted_code = \"from lshexp import minhash as mh\\n\\nlsh_lshexp = mh.LSH(n_hashes=n_hashes, bands=lsh_datasketch_default.b)\\nminhash_lshexp = mh.make_minhash_generator(n_hashes=n_hashes)\\n\\n\\ndef lsh_lshexp_minhash(shingles: List[str]):\\n    return minhash_lshexp(shingles)\\n\\n\\nlsh_lshexp.n_bands, lsh_lshexp.rows_per_band\\n\\nafter = minhash_lshexp(train[0])\";\n",
       "                var nbb_cells = Jupyter.notebook.get_cells();\n",
       "                for (var i = 0; i < nbb_cells.length; ++i) {\n",
       "                    if (nbb_cells[i].input_prompt_number == nbb_cell_id) {\n",
       "                        if (nbb_cells[i].get_text() == nbb_unformatted_code) {\n",
       "                             nbb_cells[i].set_text(nbb_formatted_code);\n",
       "                        }\n",
       "                        break;\n",
       "                    }\n",
       "                }\n",
       "            }, 500);\n",
       "            "
      ],
      "text/plain": [
       "<IPython.core.display.Javascript object>"
      ]
     },
     "metadata": {},
     "output_type": "display_data"
    }
   ],
   "source": [
    "from lshexp import minhash as mh\n",
    "\n",
    "lsh_lshexp = mh.LSH(n_hashes=n_hashes, bands=lsh_datasketch_default.b)\n",
    "minhash_lshexp = mh.make_minhash_generator(n_hashes=n_hashes)\n",
    "\n",
    "\n",
    "def lsh_lshexp_minhash(shingles: List[str]):\n",
    "    return minhash_lshexp(shingles)\n",
    "\n",
    "\n",
    "lsh_lshexp.n_bands, lsh_lshexp.rows_per_band\n",
    "\n",
    "after = minhash_lshexp(train[0])"
   ]
  },
  {
   "cell_type": "code",
   "execution_count": 235,
   "metadata": {},
   "outputs": [
    {
     "data": {
      "application/javascript": [
       "\n",
       "            setTimeout(function() {\n",
       "                var nbb_cell_id = 235;\n",
       "                var nbb_unformatted_code = \"# print(mh.hash32(b\\\"askjdfklj\\\"))\\n# print(type(mh.hash32(b\\\"askjdfklj\\\")))\\n# d = [b.encode(\\\"utf-8\\\") for b in documents[:1000]]\\n# print(min(map(mh.hash32, d)))\\n# %timeit list(map(mh.hash32, d))\";\n",
       "                var nbb_formatted_code = \"# print(mh.hash32(b\\\"askjdfklj\\\"))\\n# print(type(mh.hash32(b\\\"askjdfklj\\\")))\\n# d = [b.encode(\\\"utf-8\\\") for b in documents[:1000]]\\n# print(min(map(mh.hash32, d)))\\n# %timeit list(map(mh.hash32, d))\";\n",
       "                var nbb_cells = Jupyter.notebook.get_cells();\n",
       "                for (var i = 0; i < nbb_cells.length; ++i) {\n",
       "                    if (nbb_cells[i].input_prompt_number == nbb_cell_id) {\n",
       "                        if (nbb_cells[i].get_text() == nbb_unformatted_code) {\n",
       "                             nbb_cells[i].set_text(nbb_formatted_code);\n",
       "                        }\n",
       "                        break;\n",
       "                    }\n",
       "                }\n",
       "            }, 500);\n",
       "            "
      ],
      "text/plain": [
       "<IPython.core.display.Javascript object>"
      ]
     },
     "metadata": {},
     "output_type": "display_data"
    }
   ],
   "source": [
    "# print(mh.hash32(b\"askjdfklj\"))\n",
    "# print(type(mh.hash32(b\"askjdfklj\")))\n",
    "# d = [b.encode(\"utf-8\") for b in documents[:1000]]\n",
    "# print(min(map(mh.hash32, d)))\n",
    "# %timeit list(map(mh.hash32, d))"
   ]
  },
  {
   "cell_type": "code",
   "execution_count": 236,
   "metadata": {},
   "outputs": [
    {
     "name": "stdout",
     "output_type": "stream",
     "text": [
      "22.2 µs ± 81.9 ns per loop (mean ± std. dev. of 7 runs, 10000 loops each)\n"
     ]
    },
    {
     "data": {
      "application/javascript": [
       "\n",
       "            setTimeout(function() {\n",
       "                var nbb_cell_id = 236;\n",
       "                var nbb_unformatted_code = \"%timeit minhash_lshexp(train[0])\";\n",
       "                var nbb_formatted_code = \"%timeit minhash_lshexp(train[0])\";\n",
       "                var nbb_cells = Jupyter.notebook.get_cells();\n",
       "                for (var i = 0; i < nbb_cells.length; ++i) {\n",
       "                    if (nbb_cells[i].input_prompt_number == nbb_cell_id) {\n",
       "                        if (nbb_cells[i].get_text() == nbb_unformatted_code) {\n",
       "                             nbb_cells[i].set_text(nbb_formatted_code);\n",
       "                        }\n",
       "                        break;\n",
       "                    }\n",
       "                }\n",
       "            }, 500);\n",
       "            "
      ],
      "text/plain": [
       "<IPython.core.display.Javascript object>"
      ]
     },
     "metadata": {},
     "output_type": "display_data"
    }
   ],
   "source": [
    "%timeit minhash_lshexp(train[0])"
   ]
  },
  {
   "cell_type": "code",
   "execution_count": 237,
   "metadata": {},
   "outputs": [
    {
     "data": {
      "application/javascript": [
       "\n",
       "            setTimeout(function() {\n",
       "                var nbb_cell_id = 237;\n",
       "                var nbb_unformatted_code = \"# %timeit datasketch_minhash(train[0]).hashvalues\";\n",
       "                var nbb_formatted_code = \"# %timeit datasketch_minhash(train[0]).hashvalues\";\n",
       "                var nbb_cells = Jupyter.notebook.get_cells();\n",
       "                for (var i = 0; i < nbb_cells.length; ++i) {\n",
       "                    if (nbb_cells[i].input_prompt_number == nbb_cell_id) {\n",
       "                        if (nbb_cells[i].get_text() == nbb_unformatted_code) {\n",
       "                             nbb_cells[i].set_text(nbb_formatted_code);\n",
       "                        }\n",
       "                        break;\n",
       "                    }\n",
       "                }\n",
       "            }, 500);\n",
       "            "
      ],
      "text/plain": [
       "<IPython.core.display.Javascript object>"
      ]
     },
     "metadata": {},
     "output_type": "display_data"
    }
   ],
   "source": [
    "# %timeit datasketch_minhash(train[0]).hashvalues"
   ]
  },
  {
   "cell_type": "code",
   "execution_count": 238,
   "metadata": {},
   "outputs": [
    {
     "name": "stdout",
     "output_type": "stream",
     "text": [
      "CPU times: user 3.17 s, sys: 69.7 ms, total: 3.24 s\n",
      "Wall time: 3.25 s\n"
     ]
    },
    {
     "data": {
      "text/plain": [
       "'78.0 MB'"
      ]
     },
     "execution_count": 238,
     "metadata": {},
     "output_type": "execute_result"
    },
    {
     "data": {
      "application/javascript": [
       "\n",
       "            setTimeout(function() {\n",
       "                var nbb_cell_id = 238;\n",
       "                var nbb_unformatted_code = \"%%time\\n# %%prun -s cumulative -l 20\\n\\nfor i, row_shingles in enumerate(train):\\n    lsh_lshexp.insert(lsh_lshexp_minhash(row_shingles), i)\\n    \\nnaturalsize(asizeof(lsh_lshexp))\";\n",
       "                var nbb_formatted_code = \"%%time\\n# %%prun -s cumulative -l 20\\n\\nfor i, row_shingles in enumerate(train):\\n    lsh_lshexp.insert(lsh_lshexp_minhash(row_shingles), i)\\n    \\nnaturalsize(asizeof(lsh_lshexp))\";\n",
       "                var nbb_cells = Jupyter.notebook.get_cells();\n",
       "                for (var i = 0; i < nbb_cells.length; ++i) {\n",
       "                    if (nbb_cells[i].input_prompt_number == nbb_cell_id) {\n",
       "                        if (nbb_cells[i].get_text() == nbb_unformatted_code) {\n",
       "                             nbb_cells[i].set_text(nbb_formatted_code);\n",
       "                        }\n",
       "                        break;\n",
       "                    }\n",
       "                }\n",
       "            }, 500);\n",
       "            "
      ],
      "text/plain": [
       "<IPython.core.display.Javascript object>"
      ]
     },
     "metadata": {},
     "output_type": "display_data"
    }
   ],
   "source": [
    "%%time\n",
    "# %%prun -s cumulative -l 20\n",
    "\n",
    "for i, row_shingles in enumerate(train):\n",
    "    lsh_lshexp.insert(lsh_lshexp_minhash(row_shingles), i)\n",
    "    \n",
    "naturalsize(asizeof(lsh_lshexp))"
   ]
  },
  {
   "cell_type": "markdown",
   "metadata": {},
   "source": [
    "## Minhash algorithms from fog: Minhash"
   ]
  },
  {
   "cell_type": "code",
   "execution_count": 239,
   "metadata": {},
   "outputs": [
    {
     "data": {
      "text/plain": [
       "(18, 7)"
      ]
     },
     "execution_count": 239,
     "metadata": {},
     "output_type": "execute_result"
    },
    {
     "data": {
      "application/javascript": [
       "\n",
       "            setTimeout(function() {\n",
       "                var nbb_cell_id = 239;\n",
       "                var nbb_unformatted_code = \"from lshexp import minhash as mh\\nimport fog.lsh\\n\\nlsh_fog = mh.LSH(n_hashes=n_hashes, bands=lsh_datasketch_default.b)\\nminhash_fog = fog.lsh.MinHash(h=n_hashes, seed=42, use_numpy=True)\\nminhash_fog_fn = lambda shingles: minhash_fog.create_signature(shingles)\\n\\nlsh_lshexp.n_bands, lsh_lshexp.rows_per_band\";\n",
       "                var nbb_formatted_code = \"from lshexp import minhash as mh\\nimport fog.lsh\\n\\nlsh_fog = mh.LSH(n_hashes=n_hashes, bands=lsh_datasketch_default.b)\\nminhash_fog = fog.lsh.MinHash(h=n_hashes, seed=42, use_numpy=True)\\nminhash_fog_fn = lambda shingles: minhash_fog.create_signature(shingles)\\n\\nlsh_lshexp.n_bands, lsh_lshexp.rows_per_band\";\n",
       "                var nbb_cells = Jupyter.notebook.get_cells();\n",
       "                for (var i = 0; i < nbb_cells.length; ++i) {\n",
       "                    if (nbb_cells[i].input_prompt_number == nbb_cell_id) {\n",
       "                        if (nbb_cells[i].get_text() == nbb_unformatted_code) {\n",
       "                             nbb_cells[i].set_text(nbb_formatted_code);\n",
       "                        }\n",
       "                        break;\n",
       "                    }\n",
       "                }\n",
       "            }, 500);\n",
       "            "
      ],
      "text/plain": [
       "<IPython.core.display.Javascript object>"
      ]
     },
     "metadata": {},
     "output_type": "display_data"
    }
   ],
   "source": [
    "from lshexp import minhash as mh\n",
    "import fog.lsh\n",
    "\n",
    "lsh_fog = mh.LSH(n_hashes=n_hashes, bands=lsh_datasketch_default.b)\n",
    "minhash_fog = fog.lsh.MinHash(h=n_hashes, seed=42, use_numpy=True)\n",
    "minhash_fog_fn = lambda shingles: minhash_fog.create_signature(shingles)\n",
    "\n",
    "lsh_lshexp.n_bands, lsh_lshexp.rows_per_band"
   ]
  },
  {
   "cell_type": "code",
   "execution_count": 240,
   "metadata": {},
   "outputs": [
    {
     "name": "stdout",
     "output_type": "stream",
     "text": [
      "CPU times: user 3.69 s, sys: 46.6 ms, total: 3.73 s\n",
      "Wall time: 3.74 s\n"
     ]
    },
    {
     "data": {
      "text/plain": [
       "'78.0 MB'"
      ]
     },
     "execution_count": 240,
     "metadata": {},
     "output_type": "execute_result"
    },
    {
     "data": {
      "application/javascript": [
       "\n",
       "            setTimeout(function() {\n",
       "                var nbb_cell_id = 240;\n",
       "                var nbb_unformatted_code = \"%%time\\n\\nfor i, row_shingles in enumerate(train):\\n    lsh_fog.insert(minhash_fog_fn(row_shingles), i)\\n    \\nnaturalsize(asizeof(lsh_fog))\";\n",
       "                var nbb_formatted_code = \"%%time\\n\\nfor i, row_shingles in enumerate(train):\\n    lsh_fog.insert(minhash_fog_fn(row_shingles), i)\\n    \\nnaturalsize(asizeof(lsh_fog))\";\n",
       "                var nbb_cells = Jupyter.notebook.get_cells();\n",
       "                for (var i = 0; i < nbb_cells.length; ++i) {\n",
       "                    if (nbb_cells[i].input_prompt_number == nbb_cell_id) {\n",
       "                        if (nbb_cells[i].get_text() == nbb_unformatted_code) {\n",
       "                             nbb_cells[i].set_text(nbb_formatted_code);\n",
       "                        }\n",
       "                        break;\n",
       "                    }\n",
       "                }\n",
       "            }, 500);\n",
       "            "
      ],
      "text/plain": [
       "<IPython.core.display.Javascript object>"
      ]
     },
     "metadata": {},
     "output_type": "display_data"
    }
   ],
   "source": [
    "%%time\n",
    "\n",
    "for i, row_shingles in enumerate(train):\n",
    "    lsh_fog.insert(minhash_fog_fn(row_shingles), i)\n",
    "    \n",
    "naturalsize(asizeof(lsh_fog))"
   ]
  },
  {
   "cell_type": "markdown",
   "metadata": {},
   "source": [
    "## Testing the LSHs\n",
    "\n",
    "- precision\n",
    "- recall\n",
    "- plot jaccard-similarity -> probability to become candidate\n",
    "- storage size\n",
    "- indexing time\n",
    "- lookup time"
   ]
  },
  {
   "cell_type": "code",
   "execution_count": 241,
   "metadata": {},
   "outputs": [
    {
     "data": {
      "text/plain": [
       "(15001, '236.2 MB', 10000, '43.6 MB')"
      ]
     },
     "execution_count": 241,
     "metadata": {},
     "output_type": "execute_result"
    },
    {
     "data": {
      "application/javascript": [
       "\n",
       "            setTimeout(function() {\n",
       "                var nbb_cell_id = 241;\n",
       "                var nbb_unformatted_code = \"df = pd.DataFrame(\\n    dict(\\n        documents=documents,\\n        shingles=shingles,\\n    )\\n)\\ndf_train = df.loc[: len(train)]\\ndf_test = df.iloc[len(train) :].drop_duplicates(subset=[\\\"documents\\\"]).head(10000)\\n\\nlen(df_train), naturalsize(asizeof(df_train)), len(df_test), naturalsize(\\n    asizeof(df_test)\\n)\";\n",
       "                var nbb_formatted_code = \"df = pd.DataFrame(\\n    dict(\\n        documents=documents,\\n        shingles=shingles,\\n    )\\n)\\ndf_train = df.loc[: len(train)]\\ndf_test = df.iloc[len(train) :].drop_duplicates(subset=[\\\"documents\\\"]).head(10000)\\n\\nlen(df_train), naturalsize(asizeof(df_train)), len(df_test), naturalsize(\\n    asizeof(df_test)\\n)\";\n",
       "                var nbb_cells = Jupyter.notebook.get_cells();\n",
       "                for (var i = 0; i < nbb_cells.length; ++i) {\n",
       "                    if (nbb_cells[i].input_prompt_number == nbb_cell_id) {\n",
       "                        if (nbb_cells[i].get_text() == nbb_unformatted_code) {\n",
       "                             nbb_cells[i].set_text(nbb_formatted_code);\n",
       "                        }\n",
       "                        break;\n",
       "                    }\n",
       "                }\n",
       "            }, 500);\n",
       "            "
      ],
      "text/plain": [
       "<IPython.core.display.Javascript object>"
      ]
     },
     "metadata": {},
     "output_type": "display_data"
    }
   ],
   "source": [
    "df = pd.DataFrame(\n",
    "    dict(\n",
    "        documents=documents,\n",
    "        shingles=shingles,\n",
    "    )\n",
    ")\n",
    "df_train = df.loc[: len(train)]\n",
    "df_test = df.iloc[len(train) :].drop_duplicates(subset=[\"documents\"]).head(10000)\n",
    "\n",
    "len(df_train), naturalsize(asizeof(df_train)), len(df_test), naturalsize(\n",
    "    asizeof(df_test)\n",
    ")"
   ]
  },
  {
   "cell_type": "code",
   "execution_count": 242,
   "metadata": {},
   "outputs": [
    {
     "name": "stdout",
     "output_type": "stream",
     "text": [
      "CPU times: user 26.6 s, sys: 29.3 ms, total: 26.6 s\n",
      "Wall time: 26.7 s\n"
     ]
    },
    {
     "data": {
      "application/javascript": [
       "\n",
       "            setTimeout(function() {\n",
       "                var nbb_cell_id = 242;\n",
       "                var nbb_unformatted_code = \"%%time\\nimport lshexp.metrics\\n\\ndef calculate_precision(\\n    shingle_series, shingle_series_train, lsh_query_fn, jaccard_threshold\\n):\\n    results = shingle_series.apply(lsh_query_fn)\\n    #     results = candidates.loc[candidates.apply(bool)]\\n    n_correct = 0\\n    n_total = 0\\n    for left_shingles, candidate_list in zip(shingle_series, results):\\n        n_total += len(candidate_list)\\n        for c in candidate_list:\\n            right_shingles = shingle_series_train[c]\\n            j = lshexp.metrics.jaccard_similarity(left_shingles, right_shingles)\\n            if j >= jaccard_threshold:\\n                n_correct += 1\\n    if n_total == 0:\\n        return 1.0, 0\\n    return n_correct/n_total, n_total\\n\\nchunk_size = 500\\nprecisions = []\\nfor start_index in range(0, len(df_test), chunk_size):\\n    precision = {\\n        name: calculate_precision(\\n            df_test[\\\"shingles\\\"][start_index:start_index+chunk_size],\\n            df_train[\\\"shingles\\\"],\\n            query_fn,\\n            j_threshold,\\n        )\\n        for name, query_fn in [\\n            (\\n                \\\"lsh_datasketch_default\\\",\\n                lambda s: lsh_datasketch_default.query(datasketch_minhash(s)),\\n            ),\\n#             (\\n#                 \\\"lsh_datasketch_murmur\\\",\\n#                 lambda s: lsh_datasketch_murmur.query(datasketch_minhash(s)),\\n#             ),\\n            (\\\"lsh_lshexp\\\", lambda s: lsh_lshexp.query(lsh_lshexp_minhash(s))),\\n            (\\\"lsh_fog\\\", lambda s: lsh_fog.query(minhash_fog_fn(s))),\\n            (\\\"lsh_fog_superminhash\\\", lambda s: lsh_fog.query(superminhash_fog_fn(s))),\\n        ]\\n    }\\n    for key, v in precision.items():\\n        precisions.append({\\\"algorithm\\\": key, \\\"precision\\\": v[0], \\\"support\\\": v[1]})\\ntest_results = pd.DataFrame.from_records(precisions)\";\n",
       "                var nbb_formatted_code = \"%%time\\nimport lshexp.metrics\\n\\ndef calculate_precision(\\n    shingle_series, shingle_series_train, lsh_query_fn, jaccard_threshold\\n):\\n    results = shingle_series.apply(lsh_query_fn)\\n    #     results = candidates.loc[candidates.apply(bool)]\\n    n_correct = 0\\n    n_total = 0\\n    for left_shingles, candidate_list in zip(shingle_series, results):\\n        n_total += len(candidate_list)\\n        for c in candidate_list:\\n            right_shingles = shingle_series_train[c]\\n            j = lshexp.metrics.jaccard_similarity(left_shingles, right_shingles)\\n            if j >= jaccard_threshold:\\n                n_correct += 1\\n    if n_total == 0:\\n        return 1.0, 0\\n    return n_correct/n_total, n_total\\n\\nchunk_size = 500\\nprecisions = []\\nfor start_index in range(0, len(df_test), chunk_size):\\n    precision = {\\n        name: calculate_precision(\\n            df_test[\\\"shingles\\\"][start_index:start_index+chunk_size],\\n            df_train[\\\"shingles\\\"],\\n            query_fn,\\n            j_threshold,\\n        )\\n        for name, query_fn in [\\n            (\\n                \\\"lsh_datasketch_default\\\",\\n                lambda s: lsh_datasketch_default.query(datasketch_minhash(s)),\\n            ),\\n#             (\\n#                 \\\"lsh_datasketch_murmur\\\",\\n#                 lambda s: lsh_datasketch_murmur.query(datasketch_minhash(s)),\\n#             ),\\n            (\\\"lsh_lshexp\\\", lambda s: lsh_lshexp.query(lsh_lshexp_minhash(s))),\\n            (\\\"lsh_fog\\\", lambda s: lsh_fog.query(minhash_fog_fn(s))),\\n            (\\\"lsh_fog_superminhash\\\", lambda s: lsh_fog.query(superminhash_fog_fn(s))),\\n        ]\\n    }\\n    for key, v in precision.items():\\n        precisions.append({\\\"algorithm\\\": key, \\\"precision\\\": v[0], \\\"support\\\": v[1]})\\ntest_results = pd.DataFrame.from_records(precisions)\";\n",
       "                var nbb_cells = Jupyter.notebook.get_cells();\n",
       "                for (var i = 0; i < nbb_cells.length; ++i) {\n",
       "                    if (nbb_cells[i].input_prompt_number == nbb_cell_id) {\n",
       "                        if (nbb_cells[i].get_text() == nbb_unformatted_code) {\n",
       "                             nbb_cells[i].set_text(nbb_formatted_code);\n",
       "                        }\n",
       "                        break;\n",
       "                    }\n",
       "                }\n",
       "            }, 500);\n",
       "            "
      ],
      "text/plain": [
       "<IPython.core.display.Javascript object>"
      ]
     },
     "metadata": {},
     "output_type": "display_data"
    }
   ],
   "source": [
    "%%time\n",
    "import lshexp.metrics\n",
    "\n",
    "def calculate_precision(\n",
    "    shingle_series, shingle_series_train, lsh_query_fn, jaccard_threshold\n",
    "):\n",
    "    results = shingle_series.apply(lsh_query_fn)\n",
    "    #     results = candidates.loc[candidates.apply(bool)]\n",
    "    n_correct = 0\n",
    "    n_total = 0\n",
    "    for left_shingles, candidate_list in zip(shingle_series, results):\n",
    "        n_total += len(candidate_list)\n",
    "        for c in candidate_list:\n",
    "            right_shingles = shingle_series_train[c]\n",
    "            j = lshexp.metrics.jaccard_similarity(left_shingles, right_shingles)\n",
    "            if j >= jaccard_threshold:\n",
    "                n_correct += 1\n",
    "    if n_total == 0:\n",
    "        return 1.0, 0\n",
    "    return n_correct/n_total, n_total\n",
    "\n",
    "chunk_size = 500\n",
    "precisions = []\n",
    "for start_index in range(0, len(df_test), chunk_size):\n",
    "    precision = {\n",
    "        name: calculate_precision(\n",
    "            df_test[\"shingles\"][start_index:start_index+chunk_size],\n",
    "            df_train[\"shingles\"],\n",
    "            query_fn,\n",
    "            j_threshold,\n",
    "        )\n",
    "        for name, query_fn in [\n",
    "            (\n",
    "                \"lsh_datasketch_default\",\n",
    "                lambda s: lsh_datasketch_default.query(datasketch_minhash(s)),\n",
    "            ),\n",
    "#             (\n",
    "#                 \"lsh_datasketch_murmur\",\n",
    "#                 lambda s: lsh_datasketch_murmur.query(datasketch_minhash(s)),\n",
    "#             ),\n",
    "            (\"lsh_lshexp\", lambda s: lsh_lshexp.query(lsh_lshexp_minhash(s))),\n",
    "            (\"lsh_fog\", lambda s: lsh_fog.query(minhash_fog_fn(s))),\n",
    "#             (\"lsh_fog_superminhash\", lambda s: lsh_fog.query(superminhash_fog_fn(s))),\n",
    "        ]\n",
    "    }\n",
    "    for key, v in precision.items():\n",
    "        precisions.append({\"algorithm\": key, \"precision\": v[0], \"support\": v[1]})\n",
    "test_results = pd.DataFrame.from_records(precisions)"
   ]
  },
  {
   "cell_type": "code",
   "execution_count": 243,
   "metadata": {},
   "outputs": [
    {
     "data": {
      "text/plain": [
       "<AxesSubplot:xlabel='algorithm', ylabel='support'>"
      ]
     },
     "execution_count": 243,
     "metadata": {},
     "output_type": "execute_result"
    },
    {
     "data": {
      "image/png": "[encoded data removed]",
      "text/plain": [
       "<Figure size 432x288 with 1 Axes>"
      ]
     },
     "metadata": {
      "needs_background": "light"
     },
     "output_type": "display_data"
    },
    {
     "data": {
      "application/javascript": [
       "\n",
       "            setTimeout(function() {\n",
       "                var nbb_cell_id = 243;\n",
       "                var nbb_unformatted_code = \"sns.boxplot(data=test_results, y=\\\"support\\\", x=\\\"algorithm\\\")\";\n",
       "                var nbb_formatted_code = \"sns.boxplot(data=test_results, y=\\\"support\\\", x=\\\"algorithm\\\")\";\n",
       "                var nbb_cells = Jupyter.notebook.get_cells();\n",
       "                for (var i = 0; i < nbb_cells.length; ++i) {\n",
       "                    if (nbb_cells[i].input_prompt_number == nbb_cell_id) {\n",
       "                        if (nbb_cells[i].get_text() == nbb_unformatted_code) {\n",
       "                             nbb_cells[i].set_text(nbb_formatted_code);\n",
       "                        }\n",
       "                        break;\n",
       "                    }\n",
       "                }\n",
       "            }, 500);\n",
       "            "
      ],
      "text/plain": [
       "<IPython.core.display.Javascript object>"
      ]
     },
     "metadata": {},
     "output_type": "display_data"
    }
   ],
   "source": [
    "sns.boxplot(data=test_results, y=\"support\", x=\"algorithm\")"
   ]
  },
  {
   "cell_type": "code",
   "execution_count": 244,
   "metadata": {},
   "outputs": [
    {
     "data": {
      "image/png": "[encoded data removed]",
      "text/plain": [
       "<Figure size 432x288 with 1 Axes>"
      ]
     },
     "metadata": {
      "needs_background": "light"
     },
     "output_type": "display_data"
    },
    {
     "data": {
      "application/javascript": [
       "\n",
       "            setTimeout(function() {\n",
       "                var nbb_cell_id = 244;\n",
       "                var nbb_unformatted_code = \"_ = sns.boxplot(data=test_results, y=\\\"precision\\\", x=\\\"algorithm\\\").set_title(\\n    \\\"P(jaccard(x, candidate) > threshold)\\\"\\n)\";\n",
       "                var nbb_formatted_code = \"_ = sns.boxplot(data=test_results, y=\\\"precision\\\", x=\\\"algorithm\\\").set_title(\\n    \\\"P(jaccard(x, candidate) > threshold)\\\"\\n)\";\n",
       "                var nbb_cells = Jupyter.notebook.get_cells();\n",
       "                for (var i = 0; i < nbb_cells.length; ++i) {\n",
       "                    if (nbb_cells[i].input_prompt_number == nbb_cell_id) {\n",
       "                        if (nbb_cells[i].get_text() == nbb_unformatted_code) {\n",
       "                             nbb_cells[i].set_text(nbb_formatted_code);\n",
       "                        }\n",
       "                        break;\n",
       "                    }\n",
       "                }\n",
       "            }, 500);\n",
       "            "
      ],
      "text/plain": [
       "<IPython.core.display.Javascript object>"
      ]
     },
     "metadata": {},
     "output_type": "display_data"
    }
   ],
   "source": [
    "_ = sns.boxplot(data=test_results, y=\"precision\", x=\"algorithm\").set_title(\n",
    "    \"P(jaccard(x, candidate) > threshold)\"\n",
    ")"
   ]
  },
  {
   "cell_type": "code",
   "execution_count": 251,
   "metadata": {},
   "outputs": [
    {
     "data": {
      "text/plain": [
       "{49, 9, 'b'}"
      ]
     },
     "execution_count": 251,
     "metadata": {},
     "output_type": "execute_result"
    },
    {
     "data": {
      "application/javascript": [
       "\n",
       "            setTimeout(function() {\n",
       "                var nbb_cell_id = 251;\n",
       "                var nbb_unformatted_code = \"import random\\nimport lshexp.metrics\\n\\n\\ndef obfuscate(s: Set, other_elements: List, degree: float):\\n    if degree < 0.0:\\n        raise ValueError()\\n    return set(\\n        (x if (random.random() < degree) else random.choice(other_elements)) for x in s\\n    )\\n    return set(\\n        np.random.choice(\\n            list(\\n                np.random.choice(\\n                    list(s), size=round(len(s) * (1 - float(degree))), replace=False\\n                )\\n            )\\n            + list(\\n                np.random.choice(\\n                    other_elements,\\n                    size=round(len(s) * (1 + float(degree))),\\n                    replace=False,\\n                )\\n            ),\\n            size=len(s),\\n            replace=False,\\n        )\\n    )\\n    return set(\\n        random.sample(\\n            random.sample(list(s), k=round(len(s) * (1 - float(degree))))\\n            + random.sample(other_elements, k=round(len(s) * float(degree))),\\n            len(s),\\n        )\\n    )\\n\\n\\ndef create_test_samples(train: pd.DataFrame, corpus, k):\\n    s = train.sample(k).reset_index(drop=True)\\n    s[\\\"obfuscation\\\"] = np.random.random(len(s))\\n    s[\\\"test_shingles\\\"] = s[[\\\"shingles\\\", \\\"obfuscation\\\"]].apply(\\n        lambda row: obfuscate(row[0], corpus, row[1]), axis=1, raw=True\\n    )\\n    s[\\\"jaccard\\\"] = s[[\\\"shingles\\\", \\\"test_shingles\\\"]].apply(\\n        lambda row: lshexp.metrics.jaccard_similarity(*row), axis=1, raw=True\\n    )\\n    return s\\n\\n\\ndef query_and_calculate_true_jaccard(\\n    shingle_series, shingle_series_train, lsh_query_fn\\n):\\n    return [\\n        lshexp.metrics.jaccard_similarity(left_shingles, shingle_series_train[c])\\n        for left_shingles, candidate_list in zip(\\n            shingle_series, shingle_series.apply(lsh_query_fn)\\n        )\\n        for c in candidate_list\\n    ]\\n\\n\\nobfuscate({\\\"a\\\", \\\"b\\\", \\\"c\\\"}, list(range(100)), 0.4)\";\n",
       "                var nbb_formatted_code = \"import random\\nimport lshexp.metrics\\n\\n\\ndef obfuscate(s: Set, other_elements: List, degree: float):\\n    if degree < 0.0:\\n        raise ValueError()\\n    return set(\\n        (x if (random.random() < degree) else random.choice(other_elements)) for x in s\\n    )\\n    return set(\\n        np.random.choice(\\n            list(\\n                np.random.choice(\\n                    list(s), size=round(len(s) * (1 - float(degree))), replace=False\\n                )\\n            )\\n            + list(\\n                np.random.choice(\\n                    other_elements,\\n                    size=round(len(s) * (1 + float(degree))),\\n                    replace=False,\\n                )\\n            ),\\n            size=len(s),\\n            replace=False,\\n        )\\n    )\\n    return set(\\n        random.sample(\\n            random.sample(list(s), k=round(len(s) * (1 - float(degree))))\\n            + random.sample(other_elements, k=round(len(s) * float(degree))),\\n            len(s),\\n        )\\n    )\\n\\n\\ndef create_test_samples(train: pd.DataFrame, corpus, k):\\n    s = train.sample(k).reset_index(drop=True)\\n    s[\\\"obfuscation\\\"] = np.random.random(len(s))\\n    s[\\\"test_shingles\\\"] = s[[\\\"shingles\\\", \\\"obfuscation\\\"]].apply(\\n        lambda row: obfuscate(row[0], corpus, row[1]), axis=1, raw=True\\n    )\\n    s[\\\"jaccard\\\"] = s[[\\\"shingles\\\", \\\"test_shingles\\\"]].apply(\\n        lambda row: lshexp.metrics.jaccard_similarity(*row), axis=1, raw=True\\n    )\\n    return s\\n\\n\\ndef query_and_calculate_true_jaccard(\\n    shingle_series, shingle_series_train, lsh_query_fn\\n):\\n    return [\\n        lshexp.metrics.jaccard_similarity(left_shingles, shingle_series_train[c])\\n        for left_shingles, candidate_list in zip(\\n            shingle_series, shingle_series.apply(lsh_query_fn)\\n        )\\n        for c in candidate_list\\n    ]\\n\\n\\nobfuscate({\\\"a\\\", \\\"b\\\", \\\"c\\\"}, list(range(100)), 0.4)\";\n",
       "                var nbb_cells = Jupyter.notebook.get_cells();\n",
       "                for (var i = 0; i < nbb_cells.length; ++i) {\n",
       "                    if (nbb_cells[i].input_prompt_number == nbb_cell_id) {\n",
       "                        if (nbb_cells[i].get_text() == nbb_unformatted_code) {\n",
       "                             nbb_cells[i].set_text(nbb_formatted_code);\n",
       "                        }\n",
       "                        break;\n",
       "                    }\n",
       "                }\n",
       "            }, 500);\n",
       "            "
      ],
      "text/plain": [
       "<IPython.core.display.Javascript object>"
      ]
     },
     "metadata": {},
     "output_type": "display_data"
    }
   ],
   "source": [
    "import random\n",
    "import lshexp.metrics\n",
    "\n",
    "\n",
    "def obfuscate(s: Set, other_elements: List, degree: float):\n",
    "    if degree < 0.0:\n",
    "        raise ValueError()\n",
    "    return set(\n",
    "        (x if (random.random() < degree) else random.choice(other_elements)) for x in s\n",
    "    )\n",
    "    return set(\n",
    "        np.random.choice(\n",
    "            list(\n",
    "                np.random.choice(\n",
    "                    list(s), size=round(len(s) * (1 - float(degree))), replace=False\n",
    "                )\n",
    "            )\n",
    "            + list(\n",
    "                np.random.choice(\n",
    "                    other_elements,\n",
    "                    size=round(len(s) * (1 + float(degree))),\n",
    "                    replace=False,\n",
    "                )\n",
    "            ),\n",
    "            size=len(s),\n",
    "            replace=False,\n",
    "        )\n",
    "    )\n",
    "    return set(\n",
    "        random.sample(\n",
    "            random.sample(list(s), k=round(len(s) * (1 - float(degree))))\n",
    "            + random.sample(other_elements, k=round(len(s) * float(degree))),\n",
    "            len(s),\n",
    "        )\n",
    "    )\n",
    "\n",
    "\n",
    "def create_test_samples(train: pd.DataFrame, corpus, k):\n",
    "    s = train.sample(k).reset_index(drop=True)\n",
    "    s[\"obfuscation\"] = np.random.random(len(s))\n",
    "    s[\"test_shingles\"] = s[[\"shingles\", \"obfuscation\"]].apply(\n",
    "        lambda row: obfuscate(row[0], corpus, row[1]), axis=1, raw=True\n",
    "    )\n",
    "    s[\"jaccard\"] = s[[\"shingles\", \"test_shingles\"]].apply(\n",
    "        lambda row: lshexp.metrics.jaccard_similarity(*row), axis=1, raw=True\n",
    "    )\n",
    "    return s\n",
    "\n",
    "\n",
    "def query_and_calculate_true_jaccard(\n",
    "    shingle_series, shingle_series_train, lsh_query_fn\n",
    "):\n",
    "    return [\n",
    "        lshexp.metrics.jaccard_similarity(left_shingles, shingle_series_train[c])\n",
    "        for left_shingles, candidate_list in zip(\n",
    "            shingle_series, shingle_series.apply(lsh_query_fn)\n",
    "        )\n",
    "        for c in candidate_list\n",
    "    ]\n",
    "\n",
    "\n",
    "obfuscate({\"a\", \"b\", \"c\"}, list(range(100)), 0.4)"
   ]
  },
  {
   "cell_type": "code",
   "execution_count": 252,
   "metadata": {},
   "outputs": [
    {
     "data": {
      "text/plain": [
       "<AxesSubplot:xlabel='rounded_jaccard'>"
      ]
     },
     "execution_count": 252,
     "metadata": {},
     "output_type": "execute_result"
    },
    {
     "data": {
      "image/png": "[encoded data removed]",
      "text/plain": [
       "<Figure size 432x288 with 1 Axes>"
      ]
     },
     "metadata": {
      "needs_background": "light"
     },
     "output_type": "display_data"
    },
    {
     "data": {
      "application/javascript": [
       "\n",
       "            setTimeout(function() {\n",
       "                var nbb_cell_id = 252;\n",
       "                var nbb_unformatted_code = \"# corpus = list(set().union(*shingles) - set().union(*df_train.shingles))\\ncorpus = list(range(10000000, 10001000))\\ndf_test_samples = create_test_samples(df_train, corpus=corpus, k=5000)\\ndf_test_samples.assign(rounded_jaccard=df_test_samples.jaccard.round(1)).groupby(\\n    \\\"rounded_jaccard\\\"\\n).count().plot()\";\n",
       "                var nbb_formatted_code = \"# corpus = list(set().union(*shingles) - set().union(*df_train.shingles))\\ncorpus = list(range(10000000, 10001000))\\ndf_test_samples = create_test_samples(df_train, corpus=corpus, k=5000)\\ndf_test_samples.assign(rounded_jaccard=df_test_samples.jaccard.round(1)).groupby(\\n    \\\"rounded_jaccard\\\"\\n).count().plot()\";\n",
       "                var nbb_cells = Jupyter.notebook.get_cells();\n",
       "                for (var i = 0; i < nbb_cells.length; ++i) {\n",
       "                    if (nbb_cells[i].input_prompt_number == nbb_cell_id) {\n",
       "                        if (nbb_cells[i].get_text() == nbb_unformatted_code) {\n",
       "                             nbb_cells[i].set_text(nbb_formatted_code);\n",
       "                        }\n",
       "                        break;\n",
       "                    }\n",
       "                }\n",
       "            }, 500);\n",
       "            "
      ],
      "text/plain": [
       "<IPython.core.display.Javascript object>"
      ]
     },
     "metadata": {},
     "output_type": "display_data"
    }
   ],
   "source": [
    "# corpus = list(set().union(*shingles) - set().union(*df_train.shingles))\n",
    "corpus = list(range(10000000, 10001000))\n",
    "df_test_samples = create_test_samples(df_train, corpus=corpus, k=5000)\n",
    "df_test_samples.assign(rounded_jaccard=df_test_samples.jaccard.round(1)).groupby(\n",
    "    \"rounded_jaccard\"\n",
    ").count().plot()"
   ]
  },
  {
   "cell_type": "code",
   "execution_count": 253,
   "metadata": {},
   "outputs": [
    {
     "data": {
      "application/javascript": [
       "\n",
       "            setTimeout(function() {\n",
       "                var nbb_cell_id = 253;\n",
       "                var nbb_unformatted_code = \"# df_test_samples.assign(rounded_jaccard=df_test_samples.obfuscation.round(1)).groupby(\\n#     \\\"obfuscation\\\"\\n# ).count().plot()\";\n",
       "                var nbb_formatted_code = \"# df_test_samples.assign(rounded_jaccard=df_test_samples.obfuscation.round(1)).groupby(\\n#     \\\"obfuscation\\\"\\n# ).count().plot()\";\n",
       "                var nbb_cells = Jupyter.notebook.get_cells();\n",
       "                for (var i = 0; i < nbb_cells.length; ++i) {\n",
       "                    if (nbb_cells[i].input_prompt_number == nbb_cell_id) {\n",
       "                        if (nbb_cells[i].get_text() == nbb_unformatted_code) {\n",
       "                             nbb_cells[i].set_text(nbb_formatted_code);\n",
       "                        }\n",
       "                        break;\n",
       "                    }\n",
       "                }\n",
       "            }, 500);\n",
       "            "
      ],
      "text/plain": [
       "<IPython.core.display.Javascript object>"
      ]
     },
     "metadata": {},
     "output_type": "display_data"
    }
   ],
   "source": [
    "# df_test_samples.assign(rounded_jaccard=df_test_samples.obfuscation.round(1)).groupby(\n",
    "#     \"obfuscation\"\n",
    "# ).count().plot()"
   ]
  },
  {
   "cell_type": "code",
   "execution_count": 254,
   "metadata": {},
   "outputs": [
    {
     "data": {
      "application/javascript": [
       "\n",
       "            setTimeout(function() {\n",
       "                var nbb_cell_id = 254;\n",
       "                var nbb_unformatted_code = \"# ((1 - df_test_samples.obfuscation) - df_test_samples.jaccard).plot(kind=\\\"hist\\\")\";\n",
       "                var nbb_formatted_code = \"# ((1 - df_test_samples.obfuscation) - df_test_samples.jaccard).plot(kind=\\\"hist\\\")\";\n",
       "                var nbb_cells = Jupyter.notebook.get_cells();\n",
       "                for (var i = 0; i < nbb_cells.length; ++i) {\n",
       "                    if (nbb_cells[i].input_prompt_number == nbb_cell_id) {\n",
       "                        if (nbb_cells[i].get_text() == nbb_unformatted_code) {\n",
       "                             nbb_cells[i].set_text(nbb_formatted_code);\n",
       "                        }\n",
       "                        break;\n",
       "                    }\n",
       "                }\n",
       "            }, 500);\n",
       "            "
      ],
      "text/plain": [
       "<IPython.core.display.Javascript object>"
      ]
     },
     "metadata": {},
     "output_type": "display_data"
    }
   ],
   "source": [
    "# ((1 - df_test_samples.obfuscation) - df_test_samples.jaccard).plot(kind=\"hist\")"
   ]
  },
  {
   "cell_type": "code",
   "execution_count": 256,
   "metadata": {},
   "outputs": [
    {
     "name": "stdout",
     "output_type": "stream",
     "text": [
      "CPU times: user 7.24 s, sys: 19.8 ms, total: 7.26 s\n",
      "Wall time: 7.27 s\n"
     ]
    },
    {
     "data": {
      "application/javascript": [
       "\n",
       "            setTimeout(function() {\n",
       "                var nbb_cell_id = 256;\n",
       "                var nbb_unformatted_code = \"%%time\\n\\ndf_test_samples = create_test_samples(\\n    df_train, corpus=list(set().union(*shingles)), k=5000\\n)\\nresult_jaccards = {name: query_and_calculate_true_jaccard(\\n    df_test_samples[\\\"test_shingles\\\"],\\n    df_train[\\\"shingles\\\"],\\n    lambda s: query_fn(s))\\n    for name, query_fn in [\\n        (\\n            \\\"lsh_datasketch_default\\\",\\n            lambda s: lsh_datasketch_default.query(datasketch_minhash(s)),\\n        ),\\n#         (\\n#             \\\"lsh_datasketch_murmur\\\",\\n#             lambda s: lsh_datasketch_murmur.query(datasketch_minhash(s)),\\n#         ),\\n        (\\\"lsh_lshexp\\\", lambda s: lsh_lshexp.query(lsh_lshexp_minhash(s))),\\n            (\\\"lsh_fog\\\", lambda s: lsh_fog.query(minhash_fog_fn(s))),\\n#             (\\\"lsh_fog_superminhash\\\", lambda s: lsh_fog.query(superminhash_fog_fn(s))),\\n    ]\\n                  }\";\n",
       "                var nbb_formatted_code = \"%%time\\n\\ndf_test_samples = create_test_samples(\\n    df_train, corpus=list(set().union(*shingles)), k=5000\\n)\\nresult_jaccards = {name: query_and_calculate_true_jaccard(\\n    df_test_samples[\\\"test_shingles\\\"],\\n    df_train[\\\"shingles\\\"],\\n    lambda s: query_fn(s))\\n    for name, query_fn in [\\n        (\\n            \\\"lsh_datasketch_default\\\",\\n            lambda s: lsh_datasketch_default.query(datasketch_minhash(s)),\\n        ),\\n#         (\\n#             \\\"lsh_datasketch_murmur\\\",\\n#             lambda s: lsh_datasketch_murmur.query(datasketch_minhash(s)),\\n#         ),\\n        (\\\"lsh_lshexp\\\", lambda s: lsh_lshexp.query(lsh_lshexp_minhash(s))),\\n            (\\\"lsh_fog\\\", lambda s: lsh_fog.query(minhash_fog_fn(s))),\\n#             (\\\"lsh_fog_superminhash\\\", lambda s: lsh_fog.query(superminhash_fog_fn(s))),\\n    ]\\n                  }\";\n",
       "                var nbb_cells = Jupyter.notebook.get_cells();\n",
       "                for (var i = 0; i < nbb_cells.length; ++i) {\n",
       "                    if (nbb_cells[i].input_prompt_number == nbb_cell_id) {\n",
       "                        if (nbb_cells[i].get_text() == nbb_unformatted_code) {\n",
       "                             nbb_cells[i].set_text(nbb_formatted_code);\n",
       "                        }\n",
       "                        break;\n",
       "                    }\n",
       "                }\n",
       "            }, 500);\n",
       "            "
      ],
      "text/plain": [
       "<IPython.core.display.Javascript object>"
      ]
     },
     "metadata": {},
     "output_type": "display_data"
    }
   ],
   "source": [
    "%%time\n",
    "\n",
    "df_test_samples = create_test_samples(\n",
    "    df_train, corpus=list(set().union(*shingles)), k=5000\n",
    ")\n",
    "result_jaccards = {name: query_and_calculate_true_jaccard(\n",
    "    df_test_samples[\"test_shingles\"],\n",
    "    df_train[\"shingles\"],\n",
    "    lambda s: query_fn(s))\n",
    "    for name, query_fn in [\n",
    "        (\n",
    "            \"lsh_datasketch_default\",\n",
    "            lambda s: lsh_datasketch_default.query(datasketch_minhash(s)),\n",
    "        ),\n",
    "#         (\n",
    "#             \"lsh_datasketch_murmur\",\n",
    "#             lambda s: lsh_datasketch_murmur.query(datasketch_minhash(s)),\n",
    "#         ),\n",
    "        (\"lsh_lshexp\", lambda s: lsh_lshexp.query(lsh_lshexp_minhash(s))),\n",
    "            (\"lsh_fog\", lambda s: lsh_fog.query(minhash_fog_fn(s))),\n",
    "#             (\"lsh_fog_superminhash\", lambda s: lsh_fog.query(superminhash_fog_fn(s))),\n",
    "    ]\n",
    "                  }"
   ]
  },
  {
   "cell_type": "code",
   "execution_count": 257,
   "metadata": {},
   "outputs": [
    {
     "data": {
      "image/png": "[encoded data removed]",
      "text/plain": [
       "<Figure size 1080x432 with 1 Axes>"
      ]
     },
     "metadata": {
      "needs_background": "light"
     },
     "output_type": "display_data"
    },
    {
     "data": {
      "application/javascript": [
       "\n",
       "            setTimeout(function() {\n",
       "                var nbb_cell_id = 257;\n",
       "                var nbb_unformatted_code = \"import matplotlib.pyplot as plt\\n\\n\\nfig = plt.figure(figsize=(15, 6))\\nax = sns.histplot(\\n    data={\\n        algorithm: result_jaccard\\n        for algorithm, result_jaccard in result_jaccards.items()\\n    }\\n    | {\\\"test set\\\": list(df_test_samples[\\\"jaccard\\\"])},\\n    multiple=\\\"dodge\\\",\\n    legend=True,\\n    common_bins=True,\\n    stat=\\\"count\\\",\\n    bins=10,\\n)\\n_ = ax.set(xlabel=\\\"Jaccard similarity\\\", ylabel=\\\"Count\\\")\";\n",
       "                var nbb_formatted_code = \"import matplotlib.pyplot as plt\\n\\n\\nfig = plt.figure(figsize=(15, 6))\\nax = sns.histplot(\\n    data={\\n        algorithm: result_jaccard\\n        for algorithm, result_jaccard in result_jaccards.items()\\n    }\\n    | {\\\"test set\\\": list(df_test_samples[\\\"jaccard\\\"])},\\n    multiple=\\\"dodge\\\",\\n    legend=True,\\n    common_bins=True,\\n    stat=\\\"count\\\",\\n    bins=10,\\n)\\n_ = ax.set(xlabel=\\\"Jaccard similarity\\\", ylabel=\\\"Count\\\")\";\n",
       "                var nbb_cells = Jupyter.notebook.get_cells();\n",
       "                for (var i = 0; i < nbb_cells.length; ++i) {\n",
       "                    if (nbb_cells[i].input_prompt_number == nbb_cell_id) {\n",
       "                        if (nbb_cells[i].get_text() == nbb_unformatted_code) {\n",
       "                             nbb_cells[i].set_text(nbb_formatted_code);\n",
       "                        }\n",
       "                        break;\n",
       "                    }\n",
       "                }\n",
       "            }, 500);\n",
       "            "
      ],
      "text/plain": [
       "<IPython.core.display.Javascript object>"
      ]
     },
     "metadata": {},
     "output_type": "display_data"
    }
   ],
   "source": [
    "import matplotlib.pyplot as plt\n",
    "\n",
    "\n",
    "fig = plt.figure(figsize=(15, 6))\n",
    "ax = sns.histplot(\n",
    "    data={\n",
    "        algorithm: result_jaccard\n",
    "        for algorithm, result_jaccard in result_jaccards.items()\n",
    "    }\n",
    "    | {\"test set\": list(df_test_samples[\"jaccard\"])},\n",
    "    multiple=\"dodge\",\n",
    "    legend=True,\n",
    "    common_bins=True,\n",
    "    stat=\"count\",\n",
    "    bins=10,\n",
    ")\n",
    "_ = ax.set(xlabel=\"Jaccard similarity\", ylabel=\"Count\")"
   ]
  },
  {
   "cell_type": "markdown",
   "metadata": {},
   "source": [
    "### Lookup time per size"
   ]
  },
  {
   "cell_type": "code",
   "execution_count": 258,
   "metadata": {},
   "outputs": [
    {
     "name": "stdout",
     "output_type": "stream",
     "text": [
      "CPU times: user 55.5 s, sys: 355 ms, total: 55.9 s\n",
      "Wall time: 56 s\n"
     ]
    },
    {
     "data": {
      "image/png": "[encoded data removed]",
      "text/plain": [
       "<Figure size 1080x432 with 1 Axes>"
      ]
     },
     "metadata": {
      "needs_background": "light"
     },
     "output_type": "display_data"
    },
    {
     "data": {
      "application/javascript": [
       "\n",
       "            setTimeout(function() {\n",
       "                var nbb_cell_id = 258;\n",
       "                var nbb_unformatted_code = \"%%time\\nimport time\\nimport random\\n\\ntest_shingles = list(df_test[\\\"shingles\\\"].sample(100))\\nspeedtest = []\\nlsh = MinHashLSH(threshold=j_threshold, num_perm=n_hashes)\\nfor i, row_shingles in enumerate(shingles):\\n    lsh.insert(i, datasketch_minhash(row_shingles))\\n    if i % 500 == 0:\\n        for s in test_shingles:\\n            start = time.perf_counter()\\n            lsh.query(\\n        datasketch_minhash(s)\\n    )\\n            speedtest.append((i, (time.perf_counter() - start) * 1000.0))\\n            \\nfig = plt.figure(figsize=(15, 6))\\n_=sns.regplot(\\n    data=pd.DataFrame.from_records(speedtest, columns=[\\\"n\\\", \\\"query_ms\\\"])\\n    .groupby(\\\"n\\\")\\n    .min()\\n    .reset_index(),\\n    x=\\\"n\\\",\\n    y=\\\"query_ms\\\",\\n)\";\n",
       "                var nbb_formatted_code = \"%%time\\nimport time\\nimport random\\n\\ntest_shingles = list(df_test[\\\"shingles\\\"].sample(100))\\nspeedtest = []\\nlsh = MinHashLSH(threshold=j_threshold, num_perm=n_hashes)\\nfor i, row_shingles in enumerate(shingles):\\n    lsh.insert(i, datasketch_minhash(row_shingles))\\n    if i % 500 == 0:\\n        for s in test_shingles:\\n            start = time.perf_counter()\\n            lsh.query(\\n        datasketch_minhash(s)\\n    )\\n            speedtest.append((i, (time.perf_counter() - start) * 1000.0))\\n            \\nfig = plt.figure(figsize=(15, 6))\\n_=sns.regplot(\\n    data=pd.DataFrame.from_records(speedtest, columns=[\\\"n\\\", \\\"query_ms\\\"])\\n    .groupby(\\\"n\\\")\\n    .min()\\n    .reset_index(),\\n    x=\\\"n\\\",\\n    y=\\\"query_ms\\\",\\n)\";\n",
       "                var nbb_cells = Jupyter.notebook.get_cells();\n",
       "                for (var i = 0; i < nbb_cells.length; ++i) {\n",
       "                    if (nbb_cells[i].input_prompt_number == nbb_cell_id) {\n",
       "                        if (nbb_cells[i].get_text() == nbb_unformatted_code) {\n",
       "                             nbb_cells[i].set_text(nbb_formatted_code);\n",
       "                        }\n",
       "                        break;\n",
       "                    }\n",
       "                }\n",
       "            }, 500);\n",
       "            "
      ],
      "text/plain": [
       "<IPython.core.display.Javascript object>"
      ]
     },
     "metadata": {},
     "output_type": "display_data"
    }
   ],
   "source": [
    "%%time\n",
    "import time\n",
    "import random\n",
    "\n",
    "test_shingles = list(df_test[\"shingles\"].sample(100))\n",
    "speedtest = []\n",
    "lsh = MinHashLSH(threshold=j_threshold, num_perm=n_hashes)\n",
    "for i, row_shingles in enumerate(shingles):\n",
    "    lsh.insert(i, datasketch_minhash(row_shingles))\n",
    "    if i % 500 == 0:\n",
    "        for s in test_shingles:\n",
    "            start = time.perf_counter()\n",
    "            lsh.query(\n",
    "        datasketch_minhash(s)\n",
    "    )\n",
    "            speedtest.append((i, (time.perf_counter() - start) * 1000.0))\n",
    "            \n",
    "fig = plt.figure(figsize=(15, 6))\n",
    "_=sns.regplot(\n",
    "    data=pd.DataFrame.from_records(speedtest, columns=[\"n\", \"query_ms\"])\n",
    "    .groupby(\"n\")\n",
    "    .min()\n",
    "    .reset_index(),\n",
    "    x=\"n\",\n",
    "    y=\"query_ms\",\n",
    ")"
   ]
  },
  {
   "cell_type": "code",
   "execution_count": 259,
   "metadata": {},
   "outputs": [
    {
     "name": "stdout",
     "output_type": "stream",
     "text": [
      "CPU times: user 6.78 s, sys: 83.1 ms, total: 6.86 s\n",
      "Wall time: 6.83 s\n"
     ]
    },
    {
     "data": {
      "image/png": "[encoded data removed]",
      "text/plain": [
       "<Figure size 1080x432 with 1 Axes>"
      ]
     },
     "metadata": {
      "needs_background": "light"
     },
     "output_type": "display_data"
    },
    {
     "data": {
      "application/javascript": [
       "\n",
       "            setTimeout(function() {\n",
       "                var nbb_cell_id = 259;\n",
       "                var nbb_unformatted_code = \"%%time\\nimport time\\nimport random\\n\\ntest_shingles = list(df_test[\\\"shingles\\\"].sample(100))\\nspeedtest = []\\nlsh = mh.LSH(n_hashes=n_hashes, bands=lsh_lshexp.n_bands)\\nfor i, row_shingles in enumerate(shingles):\\n    lsh.insert(lsh_lshexp_minhash(row_shingles), i)\\n    if i % 500 == 0:\\n        for s in test_shingles:\\n            start = time.perf_counter()\\n            lsh.best_hits(lsh_lshexp_minhash(s))\\n            speedtest.append((i, (time.perf_counter() - start) * 1000.0))\\n            \\nfig = plt.figure(figsize=(15, 6))\\n_=sns.regplot(\\n    data=pd.DataFrame.from_records(speedtest, columns=[\\\"n\\\", \\\"query_ms\\\"])\\n    .groupby(\\\"n\\\")\\n    .min()\\n    .reset_index(),\\n    x=\\\"n\\\",\\n    y=\\\"query_ms\\\",\\n)\";\n",
       "                var nbb_formatted_code = \"%%time\\nimport time\\nimport random\\n\\ntest_shingles = list(df_test[\\\"shingles\\\"].sample(100))\\nspeedtest = []\\nlsh = mh.LSH(n_hashes=n_hashes, bands=lsh_lshexp.n_bands)\\nfor i, row_shingles in enumerate(shingles):\\n    lsh.insert(lsh_lshexp_minhash(row_shingles), i)\\n    if i % 500 == 0:\\n        for s in test_shingles:\\n            start = time.perf_counter()\\n            lsh.best_hits(lsh_lshexp_minhash(s))\\n            speedtest.append((i, (time.perf_counter() - start) * 1000.0))\\n            \\nfig = plt.figure(figsize=(15, 6))\\n_=sns.regplot(\\n    data=pd.DataFrame.from_records(speedtest, columns=[\\\"n\\\", \\\"query_ms\\\"])\\n    .groupby(\\\"n\\\")\\n    .min()\\n    .reset_index(),\\n    x=\\\"n\\\",\\n    y=\\\"query_ms\\\",\\n)\";\n",
       "                var nbb_cells = Jupyter.notebook.get_cells();\n",
       "                for (var i = 0; i < nbb_cells.length; ++i) {\n",
       "                    if (nbb_cells[i].input_prompt_number == nbb_cell_id) {\n",
       "                        if (nbb_cells[i].get_text() == nbb_unformatted_code) {\n",
       "                             nbb_cells[i].set_text(nbb_formatted_code);\n",
       "                        }\n",
       "                        break;\n",
       "                    }\n",
       "                }\n",
       "            }, 500);\n",
       "            "
      ],
      "text/plain": [
       "<IPython.core.display.Javascript object>"
      ]
     },
     "metadata": {},
     "output_type": "display_data"
    }
   ],
   "source": [
    "%%time\n",
    "import time\n",
    "import random\n",
    "\n",
    "test_shingles = list(df_test[\"shingles\"].sample(100))\n",
    "speedtest = []\n",
    "lsh = mh.LSH(n_hashes=n_hashes, bands=lsh_lshexp.n_bands)\n",
    "for i, row_shingles in enumerate(shingles):\n",
    "    lsh.insert(lsh_lshexp_minhash(row_shingles), i)\n",
    "    if i % 500 == 0:\n",
    "        for s in test_shingles:\n",
    "            start = time.perf_counter()\n",
    "            lsh.best_hits(lsh_lshexp_minhash(s))\n",
    "            speedtest.append((i, (time.perf_counter() - start) * 1000.0))\n",
    "            \n",
    "fig = plt.figure(figsize=(15, 6))\n",
    "_=sns.regplot(\n",
    "    data=pd.DataFrame.from_records(speedtest, columns=[\"n\", \"query_ms\"])\n",
    "    .groupby(\"n\")\n",
    "    .min()\n",
    "    .reset_index(),\n",
    "    x=\"n\",\n",
    "    y=\"query_ms\",\n",
    ")"
   ]
  },
  {
   "cell_type": "code",
   "execution_count": 260,
   "metadata": {},
   "outputs": [
    {
     "name": "stdout",
     "output_type": "stream",
     "text": [
      "CPU times: user 6.61 s, sys: 103 ms, total: 6.71 s\n",
      "Wall time: 6.7 s\n"
     ]
    },
    {
     "data": {
      "image/png": "[encoded data removed]",
      "text/plain": [
       "<Figure size 1080x432 with 1 Axes>"
      ]
     },
     "metadata": {
      "needs_background": "light"
     },
     "output_type": "display_data"
    },
    {
     "data": {
      "application/javascript": [
       "\n",
       "            setTimeout(function() {\n",
       "                var nbb_cell_id = 260;\n",
       "                var nbb_unformatted_code = \"%%time\\nimport time\\nimport random\\n\\ntest_shingles = list(df_test[\\\"shingles\\\"].sample(100))\\nspeedtest = []\\nlsh = mh.LSH(n_hashes=n_hashes, bands=lsh_lshexp.n_bands)\\nfor i, row_shingles in enumerate(shingles):\\n    lsh.insert(minhash_fog_fn(row_shingles), i)\\n    if i % 500 == 0:\\n        for s in test_shingles:\\n            start = time.perf_counter()\\n            lsh.best_hits(minhash_fog_fn(s))\\n            speedtest.append((i, (time.perf_counter() - start) * 1000.0))\\n            \\nfig = plt.figure(figsize=(15, 6))\\n_=sns.regplot(\\n    data=pd.DataFrame.from_records(speedtest, columns=[\\\"n\\\", \\\"query_ms\\\"])\\n    .groupby(\\\"n\\\")\\n    .min()\\n    .reset_index(),\\n    x=\\\"n\\\",\\n    y=\\\"query_ms\\\",\\n)\";\n",
       "                var nbb_formatted_code = \"%%time\\nimport time\\nimport random\\n\\ntest_shingles = list(df_test[\\\"shingles\\\"].sample(100))\\nspeedtest = []\\nlsh = mh.LSH(n_hashes=n_hashes, bands=lsh_lshexp.n_bands)\\nfor i, row_shingles in enumerate(shingles):\\n    lsh.insert(minhash_fog_fn(row_shingles), i)\\n    if i % 500 == 0:\\n        for s in test_shingles:\\n            start = time.perf_counter()\\n            lsh.best_hits(minhash_fog_fn(s))\\n            speedtest.append((i, (time.perf_counter() - start) * 1000.0))\\n            \\nfig = plt.figure(figsize=(15, 6))\\n_=sns.regplot(\\n    data=pd.DataFrame.from_records(speedtest, columns=[\\\"n\\\", \\\"query_ms\\\"])\\n    .groupby(\\\"n\\\")\\n    .min()\\n    .reset_index(),\\n    x=\\\"n\\\",\\n    y=\\\"query_ms\\\",\\n)\";\n",
       "                var nbb_cells = Jupyter.notebook.get_cells();\n",
       "                for (var i = 0; i < nbb_cells.length; ++i) {\n",
       "                    if (nbb_cells[i].input_prompt_number == nbb_cell_id) {\n",
       "                        if (nbb_cells[i].get_text() == nbb_unformatted_code) {\n",
       "                             nbb_cells[i].set_text(nbb_formatted_code);\n",
       "                        }\n",
       "                        break;\n",
       "                    }\n",
       "                }\n",
       "            }, 500);\n",
       "            "
      ],
      "text/plain": [
       "<IPython.core.display.Javascript object>"
      ]
     },
     "metadata": {},
     "output_type": "display_data"
    }
   ],
   "source": [
    "%%time\n",
    "import time\n",
    "import random\n",
    "\n",
    "test_shingles = list(df_test[\"shingles\"].sample(100))\n",
    "speedtest = []\n",
    "lsh = mh.LSH(n_hashes=n_hashes, bands=lsh_lshexp.n_bands)\n",
    "for i, row_shingles in enumerate(shingles):\n",
    "    lsh.insert(minhash_fog_fn(row_shingles), i)\n",
    "    if i % 500 == 0:\n",
    "        for s in test_shingles:\n",
    "            start = time.perf_counter()\n",
    "            lsh.best_hits(minhash_fog_fn(s))\n",
    "            speedtest.append((i, (time.perf_counter() - start) * 1000.0))\n",
    "            \n",
    "fig = plt.figure(figsize=(15, 6))\n",
    "_=sns.regplot(\n",
    "    data=pd.DataFrame.from_records(speedtest, columns=[\"n\", \"query_ms\"])\n",
    "    .groupby(\"n\")\n",
    "    .min()\n",
    "    .reset_index(),\n",
    "    x=\"n\",\n",
    "    y=\"query_ms\",\n",
    ")"
   ]
  },
  {
   "cell_type": "code",
   "execution_count": 66,
   "metadata": {},
   "outputs": [
    {
     "data": {
      "application/javascript": [
       "\n",
       "            setTimeout(function() {\n",
       "                var nbb_cell_id = 66;\n",
       "                var nbb_unformatted_code = \"from scipy.integrate import quad as integrate\\n\\n\\ndef _false_positive_probability(threshold, b, r):\\n    _probability = lambda s: 1 - (1 - s ** float(r)) ** float(b)\\n    a, err = integrate(_probability, 0.0, threshold)\\n    return a\\n\\n\\ndef _false_negative_probability(threshold, b, r):\\n    _probability = lambda s: 1 - (1 - (1 - s ** float(r)) ** float(b))\\n    a, err = integrate(_probability, threshold, 1.0)\\n    return a\\n\\n\\ndef _optimal_param(threshold, num_perm, false_positive_weight, false_negative_weight):\\n    \\\"\\\"\\\"\\n    Compute the optimal `MinHashLSH` parameter that minimizes the weighted sum\\n    of probabilities of false positive and false negative.\\n    \\\"\\\"\\\"\\n    min_error = float(\\\"inf\\\")\\n    opt = (0, 0)\\n    for b in range(1, num_perm + 1):\\n        max_r = int(num_perm / b)\\n        for r in range(1, max_r + 1):\\n            fp = _false_positive_probability(threshold, b, r)\\n            fn = _false_negative_probability(threshold, b, r)\\n            error = fp * false_positive_weight + fn * false_negative_weight\\n            if error < min_error:\\n                min_error = error\\n                opt = (b, r)\\n    return opt\\n\\n\\ndef _optimal_param2(threshold, num_perm, false_positive_weight, false_negative_weight):\\n    \\\"\\\"\\\"\\n    Compute the optimal `MinHashLSH` parameter that minimizes the weighted sum\\n    of probabilities of false positive and false negative.\\n    \\\"\\\"\\\"\\n    min_error = float(\\\"inf\\\")\\n    opt = (0, 0)\\n    for b in range(2, num_perm + 1):\\n        r = num_perm // b\\n        fp = _false_positive_probability(threshold, b, r)\\n        if fp * false_positive_weight >= min_error:\\n            continue\\n        fn = _false_negative_probability(threshold, b, r)\\n        error = fp * false_positive_weight + fn * false_negative_weight\\n        if error < min_error:\\n            min_error = error\\n            opt = (b, r)\\n    return *opt, min_error\";\n",
       "                var nbb_formatted_code = \"from scipy.integrate import quad as integrate\\n\\n\\ndef _false_positive_probability(threshold, b, r):\\n    _probability = lambda s: 1 - (1 - s ** float(r)) ** float(b)\\n    a, err = integrate(_probability, 0.0, threshold)\\n    return a\\n\\n\\ndef _false_negative_probability(threshold, b, r):\\n    _probability = lambda s: 1 - (1 - (1 - s ** float(r)) ** float(b))\\n    a, err = integrate(_probability, threshold, 1.0)\\n    return a\\n\\n\\ndef _optimal_param(threshold, num_perm, false_positive_weight, false_negative_weight):\\n    \\\"\\\"\\\"\\n    Compute the optimal `MinHashLSH` parameter that minimizes the weighted sum\\n    of probabilities of false positive and false negative.\\n    \\\"\\\"\\\"\\n    min_error = float(\\\"inf\\\")\\n    opt = (0, 0)\\n    for b in range(1, num_perm + 1):\\n        max_r = int(num_perm / b)\\n        for r in range(1, max_r + 1):\\n            fp = _false_positive_probability(threshold, b, r)\\n            fn = _false_negative_probability(threshold, b, r)\\n            error = fp * false_positive_weight + fn * false_negative_weight\\n            if error < min_error:\\n                min_error = error\\n                opt = (b, r)\\n    return opt\\n\\n\\ndef _optimal_param2(threshold, num_perm, false_positive_weight, false_negative_weight):\\n    \\\"\\\"\\\"\\n    Compute the optimal `MinHashLSH` parameter that minimizes the weighted sum\\n    of probabilities of false positive and false negative.\\n    \\\"\\\"\\\"\\n    min_error = float(\\\"inf\\\")\\n    opt = (0, 0)\\n    for b in range(2, num_perm + 1):\\n        r = num_perm // b\\n        fp = _false_positive_probability(threshold, b, r)\\n        if fp * false_positive_weight >= min_error:\\n            continue\\n        fn = _false_negative_probability(threshold, b, r)\\n        error = fp * false_positive_weight + fn * false_negative_weight\\n        if error < min_error:\\n            min_error = error\\n            opt = (b, r)\\n    return *opt, min_error\";\n",
       "                var nbb_cells = Jupyter.notebook.get_cells();\n",
       "                for (var i = 0; i < nbb_cells.length; ++i) {\n",
       "                    if (nbb_cells[i].input_prompt_number == nbb_cell_id) {\n",
       "                        if (nbb_cells[i].get_text() == nbb_unformatted_code) {\n",
       "                             nbb_cells[i].set_text(nbb_formatted_code);\n",
       "                        }\n",
       "                        break;\n",
       "                    }\n",
       "                }\n",
       "            }, 500);\n",
       "            "
      ],
      "text/plain": [
       "<IPython.core.display.Javascript object>"
      ]
     },
     "metadata": {},
     "output_type": "display_data"
    }
   ],
   "source": []
  },
  {
   "cell_type": "code",
   "execution_count": 67,
   "metadata": {},
   "outputs": [
    {
     "data": {
      "application/javascript": [
       "\n",
       "            setTimeout(function() {\n",
       "                var nbb_cell_id = 67;\n",
       "                var nbb_unformatted_code = \"import matplotlib.pyplot as plt\\n\\n# import matplotlib.colors\\nfrom matplotlib import cm\\n\\n# from mpl_toolkits.mplot3d import Axes3D\\n\\nnum_perm = 32\\nrows = np.arange(1, num_perm + 1, 1)\\nbands = np.arange(1, num_perm + 1, 1)\\nvec_false_negative_probability = np.vectorize(_false_negative_probability)\\nvec_false_positive_probability = np.vectorize(_false_positive_probability)\\n# proba_false_negative = np.array(\\n#     [[_false_negative_probability(0.3, b, r) for r in rows] for b in bands]\\n# )\\n# proba_false_positive = np.array(\\n#     [vec_false_positive_probability(0.3, b, rows) for b in bands]\\n# )\\nbands, rows = np.meshgrid(bands, rows)\\nproba_false_negative = np.array(vec_false_negative_probability(0.3, bands, rows))\\nproba_false_positive = np.array(vec_false_positive_probability(0.3, bands, rows))\";\n",
       "                var nbb_formatted_code = \"import matplotlib.pyplot as plt\\n\\n# import matplotlib.colors\\nfrom matplotlib import cm\\n\\n# from mpl_toolkits.mplot3d import Axes3D\\n\\nnum_perm = 32\\nrows = np.arange(1, num_perm + 1, 1)\\nbands = np.arange(1, num_perm + 1, 1)\\nvec_false_negative_probability = np.vectorize(_false_negative_probability)\\nvec_false_positive_probability = np.vectorize(_false_positive_probability)\\n# proba_false_negative = np.array(\\n#     [[_false_negative_probability(0.3, b, r) for r in rows] for b in bands]\\n# )\\n# proba_false_positive = np.array(\\n#     [vec_false_positive_probability(0.3, b, rows) for b in bands]\\n# )\\nbands, rows = np.meshgrid(bands, rows)\\nproba_false_negative = np.array(vec_false_negative_probability(0.3, bands, rows))\\nproba_false_positive = np.array(vec_false_positive_probability(0.3, bands, rows))\";\n",
       "                var nbb_cells = Jupyter.notebook.get_cells();\n",
       "                for (var i = 0; i < nbb_cells.length; ++i) {\n",
       "                    if (nbb_cells[i].input_prompt_number == nbb_cell_id) {\n",
       "                        if (nbb_cells[i].get_text() == nbb_unformatted_code) {\n",
       "                             nbb_cells[i].set_text(nbb_formatted_code);\n",
       "                        }\n",
       "                        break;\n",
       "                    }\n",
       "                }\n",
       "            }, 500);\n",
       "            "
      ],
      "text/plain": [
       "<IPython.core.display.Javascript object>"
      ]
     },
     "metadata": {},
     "output_type": "display_data"
    }
   ],
   "source": []
  }
 ],
 "metadata": {
  "kernelspec": {
   "display_name": "Python 3 (ipykernel)",
   "language": "python",
   "name": "python3"
  },
  "language_info": {
   "codemirror_mode": {
    "name": "ipython",
    "version": 3
   },
   "file_extension": ".py",
   "mimetype": "text/x-python",
   "name": "python",
   "nbconvert_exporter": "python",
   "pygments_lexer": "ipython3",
   "version": "3.9.9"
  }
 },
 "nbformat": 4,
 "nbformat_minor": 2
}
